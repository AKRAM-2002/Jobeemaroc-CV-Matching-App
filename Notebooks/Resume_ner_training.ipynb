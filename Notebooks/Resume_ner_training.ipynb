{
 "cells": [
  {
   "cell_type": "markdown",
   "id": "7ceb9e90-cd14-4dfc-accb-4e977dc99126",
   "metadata": {},
   "source": [
    "Resume parsing: will help us in converting an unstructured form of resume data into a structured format, and also will speed up the process for recruiters to pass by many resumes in less time and eliminating the error prone"
   ]
  },
  {
   "cell_type": "code",
   "execution_count": 1,
   "id": "66cae201-d1df-4e35-8c39-d2c9d39806c8",
   "metadata": {},
   "outputs": [],
   "source": [
    "import spacy\n",
    "import pickle\n",
    "import random"
   ]
  },
  {
   "cell_type": "code",
   "execution_count": null,
   "id": "9b3cc230-89d8-4f60-af18-964f3f0266f6",
   "metadata": {},
   "outputs": [],
   "source": []
  },
  {
   "cell_type": "code",
   "execution_count": null,
   "id": "f79bc1ad-e300-4d0c-9067-93a8209d4275",
   "metadata": {},
   "outputs": [],
   "source": []
  }
 ],
 "metadata": {
  "kernelspec": {
   "display_name": "Python 3 (ipykernel)",
   "language": "python",
   "name": "python3"
  },
  "language_info": {
   "codemirror_mode": {
    "name": "ipython",
    "version": 3
   },
   "file_extension": ".py",
   "mimetype": "text/x-python",
   "name": "python",
   "nbconvert_exporter": "python",
   "pygments_lexer": "ipython3",
   "version": "3.9.13"
  }
 },
 "nbformat": 4,
 "nbformat_minor": 5
}
