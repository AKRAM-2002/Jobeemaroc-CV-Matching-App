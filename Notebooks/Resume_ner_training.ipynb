{
 "cells": [
  {
   "cell_type": "markdown",
   "id": "7ceb9e90-cd14-4dfc-accb-4e977dc99126",
   "metadata": {},
   "source": [
    "Resume parsing: will help us in converting an unstructured form of resume data into a structured format, and also will speed up the process for recruiters to pass by many resumes in less time and eliminating the error prone"
   ]
  },
  {
   "cell_type": "code",
   "execution_count": null,
   "id": "d345dfe2-aed9-40ca-a6e1-595a08d45d0e",
   "metadata": {},
   "outputs": [
    {
     "name": "stdout",
     "output_type": "stream",
     "text": [
      "^C\n",
      "Collecting spacy_transformers\n",
      "  Using cached spacy_transformers-1.2.4-cp39-cp39-win_amd64.whl (304 kB)\n",
      "Collecting spacy<4.0.0,>=3.5.0 (from spacy_transformers)\n",
      "  Using cached spacy-3.5.3-cp39-cp39-win_amd64.whl (12.2 MB)\n",
      "Requirement already satisfied: numpy>=1.15.0 in c:\\users\\hp\\anaconda3\\lib\\site-packages (from spacy_transformers) (1.21.5)\n",
      "Collecting transformers<4.30.0,>=3.4.0 (from spacy_transformers)\n",
      "  Using cached transformers-4.29.2-py3-none-any.whl (7.1 MB)\n",
      "Collecting torch>=1.8.0 (from spacy_transformers)\n",
      "  Downloading torch-2.0.1-cp39-cp39-win_amd64.whl (172.4 MB)\n"
     ]
    }
   ],
   "source": [
    "!pip install spacy_transformers\n",
    "!pip install -U spacy"
   ]
  },
  {
   "cell_type": "code",
   "execution_count": 1,
   "id": "66cae201-d1df-4e35-8c39-d2c9d39806c8",
   "metadata": {},
   "outputs": [],
   "source": [
    "import spacy\n",
    "from spacy.tokens import DocBin\n",
    "from tqdm import tqdm\n",
    "import json\n",
    "import pickle\n",
    "import random"
   ]
  },
  {
   "cell_type": "code",
   "execution_count": 2,
   "id": "b829b37f-d2bc-467e-a105-5d409b7417f3",
   "metadata": {},
   "outputs": [],
   "source": [
    "nlp = spacy.blank('en')"
   ]
  },
  {
   "cell_type": "code",
   "execution_count": 3,
   "id": "9b3cc230-89d8-4f60-af18-964f3f0266f6",
   "metadata": {},
   "outputs": [],
   "source": [
    "train_data = json.load(open('C:/Users/hp/Documents/NLP Projects/Resume-Analyzer-NLP/data/training/dataset.json','r'))"
   ]
  },
  {
   "cell_type": "code",
   "execution_count": 4,
   "id": "f79bc1ad-e300-4d0c-9067-93a8209d4275",
   "metadata": {},
   "outputs": [
    {
     "data": {
      "text/plain": [
       "['\\xa0 \\xa0\\nContact\\nwww.linkedin.com/in/omjagri\\n(LinkedIn)\\nTop Skills\\nphp\\nMySQL\\nJavaScript\\nCertifications\\nPhp & Js Om Prakash Jagri\\nFull Stack Developer | PHP | Laravel | Vue Js\\nKathmandu, Bāgmatī, Nepal\\nSummary\\nExperienced Developer with a demonstrated history of working in\\nthe information technology and services industry. Skilled in Laravel,\\nPHP, Cascading Style Sheets (CSS), JavaScript, vue js and MySQL.\\nStrong engineering professional with a B.sc.CSIT(Bachelors of\\nScience in Computer Science and Information Technology) focused\\nin Computer Science from Tribhuvan University, Institute of Science\\n& Tchnology. \\nExperience\\nSearchable Design LLC\\nSoftware Developer\\nJune 2021\\xa0-\\xa0Present\\xa0 (1 year 7 months)\\nNepal\\nFull Stack Developer Laravel with Vue Js\\nBenekiva\\nTechnical Documentation\\nSeptember 2021\\xa0-\\xa0Present\\xa0 (1 year 4 months)\\nUnited States\\nBidhee\\n3 years 9 months\\nLaravel Developer\\nMarch 2018\\xa0-\\xa0May 2021\\xa0 (3 years 3 months)\\nBaneswar Kathamandu\\nInternship\\nSeptember 2017\\xa0-\\xa0February 2018\\xa0 (6 months)\\nKathamandu Nepal\\nWeb Development in PHP/JS With Laravel Framework \\nEducation\\n\\xa0 Page 1 of 2\\xa0 \\xa0\\nSiddhanath Science Campus Mahendranagar\\nB.sc.CSIT(Bachelors of Science in Computer Science and Information\\nTechnology),\\xa0Computer Science \\xa0·\\xa0(2013\\xa0-\\xa02018)\\n\\xa0 Page 2 of 2',\n",
       " {'entities': [[12, 39, 'LINKEDIN LINK'],\n",
       "   [62, 65, 'SKILLS'],\n",
       "   [66, 71, 'SKILLS'],\n",
       "   [72, 82, 'SKILLS'],\n",
       "   [98, 106, 'CERTIFICATION'],\n",
       "   [107, 123, 'NAME'],\n",
       "   [147, 150, 'SKILLS'],\n",
       "   [153, 160, 'SKILLS'],\n",
       "   [163, 169, 'SKILLS'],\n",
       "   [170, 195, 'LOCATION'],\n",
       "   [622, 643, 'COMPANIES WORKED AT'],\n",
       "   [644, 662, 'WORKED AS'],\n",
       "   [685, 700, 'YEARS OF EXPERIENCE'],\n",
       "   [749, 757, 'COMPANIES WORKED AT'],\n",
       "   [758, 781, 'WORKED AS'],\n",
       "   [809, 824, 'YEARS OF EXPERIENCE'],\n",
       "   [840, 846, 'COMPANIES WORKED AT'],\n",
       "   [864, 881, 'WORKED AS'],\n",
       "   [906, 922, 'YEARS OF EXPERIENCE'],\n",
       "   [944, 954, 'WORKED AS'],\n",
       "   [988, 996, 'YEARS OF EXPERIENCE'],\n",
       "   [1092, 1131, 'COLLEGE NAME'],\n",
       "   [1132, 1228, 'DEGREE']]}]"
      ]
     },
     "execution_count": 4,
     "metadata": {},
     "output_type": "execute_result"
    }
   ],
   "source": [
    "train_data[0]"
   ]
  },
  {
   "cell_type": "code",
   "execution_count": 5,
   "id": "22f03f37-0b90-41e0-a13b-6cb744878fa6",
   "metadata": {},
   "outputs": [
    {
     "data": {
      "text/plain": [
       "1014"
      ]
     },
     "execution_count": 5,
     "metadata": {},
     "output_type": "execute_result"
    }
   ],
   "source": [
    "len(train_data)"
   ]
  },
  {
   "cell_type": "code",
   "execution_count": 6,
   "id": "5e1066fb-93eb-4f85-8908-1e7c36ef92e4",
   "metadata": {},
   "outputs": [
    {
     "data": {
      "text/plain": [
       "['tagger', 'parser', 'ner']"
      ]
     },
     "execution_count": 6,
     "metadata": {},
     "output_type": "execute_result"
    }
   ],
   "source": [
    "nlp = spacy.load('en_core_web_sm')\n",
    "nlp.pipe_names"
   ]
  },
  {
   "cell_type": "code",
   "execution_count": 7,
   "id": "6a0f4870-017e-4b8c-8482-4bd24089c391",
   "metadata": {},
   "outputs": [],
   "source": [
    "\n",
    "def train_model(train_data):\n",
    "    ner = nlp.get_pipe('ner')\n",
    "\n",
    "    for _, annotation in train_data:\n",
    "        for ent in annotation['entities']:\n",
    "            ner.add_label(ent[2])\n",
    "\n",
    "    optimizer = nlp.begin_training()\n",
    "    for itn in range(10):\n",
    "        print(\"Starting iteration \" + str(itn))\n",
    "        random.shuffle(train_data)\n",
    "        losses = {}\n",
    "        for text, annotations in train_data:\n",
    "            try:\n",
    "                nlp.update(\n",
    "                    [text],  # batch of texts\n",
    "                    [annotations],  # batch of annotations\n",
    "                    drop=0.2,  # dropout - make it harder to memorize\n",
    "                    sgd=optimizer,  # callable to update weights\n",
    "                    losses=losses\n",
    "                )\n",
    "            except Exception as e:\n",
    "                pass\n",
    "        print(losses)\n"
   ]
  },
  {
   "cell_type": "code",
   "execution_count": 8,
   "id": "51f21899-46a6-44f4-8949-08a4dbdc0cde",
   "metadata": {},
   "outputs": [
    {
     "name": "stdout",
     "output_type": "stream",
     "text": [
      "Starting iteration 0\n"
     ]
    },
    {
     "name": "stderr",
     "output_type": "stream",
     "text": [
      "C:\\Users\\hp\\anaconda3\\lib\\site-packages\\spacy\\language.py:482: UserWarning: [W030] Some entities could not be aligned in the text \"   \n",
      "Contact\n",
      "www.linkedin.com/in/mukesh-\n",
      "gautam-127...\" with entities \"[[12, 56, 'LINKEDIN LINK'], [68, 81, 'NAME'], [129...\". Use `spacy.gold.biluo_tags_from_offsets(nlp.make_doc(text), entities)` to check the alignment. Misaligned entities (with BILUO tag '-') will be ignored during training.\n",
      "  gold = GoldParse(doc, **gold)\n",
      "C:\\Users\\hp\\anaconda3\\lib\\site-packages\\spacy\\language.py:482: UserWarning: [W030] Some entities could not be aligned in the text \"   \n",
      "Contact\n",
      "www.linkedin.com/in/n33t3sh(LinkedIn)\n",
      "...\" with entities \"[[12, 39, 'LINKEDIN LINK'], [61, 85, 'SKILLS'], [8...\". Use `spacy.gold.biluo_tags_from_offsets(nlp.make_doc(text), entities)` to check the alignment. Misaligned entities (with BILUO tag '-') will be ignored during training.\n",
      "  gold = GoldParse(doc, **gold)\n",
      "C:\\Users\\hp\\anaconda3\\lib\\site-packages\\spacy\\language.py:482: UserWarning: [W030] Some entities could not be aligned in the text \"   \n",
      "Contact\n",
      "www.linkedin.com/in/pukar-ojha-1273892...\" with entities \"[[12, 52, 'LINKEDIN LINK'], [76, 85, 'SKILLS'], [8...\". Use `spacy.gold.biluo_tags_from_offsets(nlp.make_doc(text), entities)` to check the alignment. Misaligned entities (with BILUO tag '-') will be ignored during training.\n",
      "  gold = GoldParse(doc, **gold)\n",
      "C:\\Users\\hp\\anaconda3\\lib\\site-packages\\spacy\\language.py:482: UserWarning: [W030] Some entities could not be aligned in the text \"   \n",
      "Contact\n",
      "www.linkedin.com/in/amir-alhosary-4832...\" with entities \"[[12, 54, 'LINKEDIN LINK'], [78, 90, 'SKILLS'], [9...\". Use `spacy.gold.biluo_tags_from_offsets(nlp.make_doc(text), entities)` to check the alignment. Misaligned entities (with BILUO tag '-') will be ignored during training.\n",
      "  gold = GoldParse(doc, **gold)\n",
      "C:\\Users\\hp\\anaconda3\\lib\\site-packages\\spacy\\language.py:482: UserWarning: [W030] Some entities could not be aligned in the text \"   \n",
      "Contact\n",
      "www.linkedin.com/in/binod-kumar-\n",
      "bhaga...\" with entities \"[[12, 61, 'LINKEDIN LINK'], [85, 102, 'SKILLS'], [...\". Use `spacy.gold.biluo_tags_from_offsets(nlp.make_doc(text), entities)` to check the alignment. Misaligned entities (with BILUO tag '-') will be ignored during training.\n",
      "  gold = GoldParse(doc, **gold)\n",
      "C:\\Users\\hp\\anaconda3\\lib\\site-packages\\spacy\\language.py:482: UserWarning: [W030] Some entities could not be aligned in the text \"   \n",
      "Contact\n",
      "www.linkedin.com/in/sagar-\n",
      "b-990766b6 ...\" with entities \"[[12, 49, 'LINKEDIN LINK'], [109, 115, 'SKILLS'], ...\". Use `spacy.gold.biluo_tags_from_offsets(nlp.make_doc(text), entities)` to check the alignment. Misaligned entities (with BILUO tag '-') will be ignored during training.\n",
      "  gold = GoldParse(doc, **gold)\n",
      "C:\\Users\\hp\\anaconda3\\lib\\site-packages\\spacy\\language.py:482: UserWarning: [W030] Some entities could not be aligned in the text \"   \n",
      "Contact\n",
      "www.linkedin.com/in/malik-hassan-24583...\" with entities \"[[12, 53, 'LINKEDIN LINK'], [77, 93, 'SKILLS'], [9...\". Use `spacy.gold.biluo_tags_from_offsets(nlp.make_doc(text), entities)` to check the alignment. Misaligned entities (with BILUO tag '-') will be ignored during training.\n",
      "  gold = GoldParse(doc, **gold)\n",
      "C:\\Users\\hp\\anaconda3\\lib\\site-packages\\spacy\\language.py:482: UserWarning: [W030] Some entities could not be aligned in the text \"   \n",
      "Contact\n",
      "www.linkedin.com/in/rabi-gorkhali-\n",
      "b47...\" with entities \"[[12, 56, 'LINKEDIN LINK'], [113, 116, 'SKILLS'], ...\". Use `spacy.gold.biluo_tags_from_offsets(nlp.make_doc(text), entities)` to check the alignment. Misaligned entities (with BILUO tag '-') will be ignored during training.\n",
      "  gold = GoldParse(doc, **gold)\n",
      "C:\\Users\\hp\\anaconda3\\lib\\site-packages\\spacy\\language.py:482: UserWarning: [W030] Some entities could not be aligned in the text \"   \n",
      "Contact\n",
      "www.linkedin.com/in/mmcodevila(LinkedI...\" with entities \"[[12, 42, 'LINKEDIN LINK'], [64, 73, 'SKILLS'], [7...\". Use `spacy.gold.biluo_tags_from_offsets(nlp.make_doc(text), entities)` to check the alignment. Misaligned entities (with BILUO tag '-') will be ignored during training.\n",
      "  gold = GoldParse(doc, **gold)\n",
      "C:\\Users\\hp\\anaconda3\\lib\\site-packages\\spacy\\language.py:482: UserWarning: [W030] Some entities could not be aligned in the text \"   \n",
      "Contact\n",
      "www.linkedin.com/in/\n",
      "sagunshrestha76  ...\" with entities \"[[12, 48, 'LINKEDIN LINK'], [61, 75, 'NAME'], [76,...\". Use `spacy.gold.biluo_tags_from_offsets(nlp.make_doc(text), entities)` to check the alignment. Misaligned entities (with BILUO tag '-') will be ignored during training.\n",
      "  gold = GoldParse(doc, **gold)\n",
      "C:\\Users\\hp\\anaconda3\\lib\\site-packages\\spacy\\language.py:482: UserWarning: [W030] Some entities could not be aligned in the text \"   \n",
      "Contact\n",
      "www.linkedin.com/in/pravesh-\n",
      "budhathok...\" with entities \"[[12, 61, 'LINKEDIN LINK'], [85, 101, 'SKILLS'], [...\". Use `spacy.gold.biluo_tags_from_offsets(nlp.make_doc(text), entities)` to check the alignment. Misaligned entities (with BILUO tag '-') will be ignored during training.\n",
      "  gold = GoldParse(doc, **gold)\n",
      "C:\\Users\\hp\\anaconda3\\lib\\site-packages\\spacy\\language.py:482: UserWarning: [W030] Some entities could not be aligned in the text \"   \n",
      "Contact\n",
      "www.linkedin.com/in/amrit-poudel-\n",
      "a181...\" with entities \"[[12, 55, 'LINKEDIN LINK'], [112, 116, 'SKILLS'], ...\". Use `spacy.gold.biluo_tags_from_offsets(nlp.make_doc(text), entities)` to check the alignment. Misaligned entities (with BILUO tag '-') will be ignored during training.\n",
      "  gold = GoldParse(doc, **gold)\n",
      "C:\\Users\\hp\\anaconda3\\lib\\site-packages\\spacy\\language.py:482: UserWarning: [W030] Some entities could not be aligned in the text \"   \n",
      "Contact\n",
      "www.linkedin.com/in/som-\n",
      "kumar-48aa696...\" with entities \"[[12, 51, 'LINKEDIN LINK'], [63, 72, 'NAME'], [73,...\". Use `spacy.gold.biluo_tags_from_offsets(nlp.make_doc(text), entities)` to check the alignment. Misaligned entities (with BILUO tag '-') will be ignored during training.\n",
      "  gold = GoldParse(doc, **gold)\n",
      "C:\\Users\\hp\\anaconda3\\lib\\site-packages\\spacy\\language.py:482: UserWarning: [W030] Some entities could not be aligned in the text \"   \n",
      "Contact\n",
      "www.linkedin.com/in/akhil-shah04(Linke...\" with entities \"[[12, 44, 'LINKEDIN LINK'], [66, 70, 'SKILLS'], [7...\". Use `spacy.gold.biluo_tags_from_offsets(nlp.make_doc(text), entities)` to check the alignment. Misaligned entities (with BILUO tag '-') will be ignored during training.\n",
      "  gold = GoldParse(doc, **gold)\n",
      "C:\\Users\\hp\\anaconda3\\lib\\site-packages\\spacy\\language.py:482: UserWarning: [W030] Some entities could not be aligned in the text \"   \n",
      "Contact\n",
      "www.linkedin.com/in/prawesh-\n",
      "yadav-9b8...\" with entities \"[[12, 56, 'LINKEDIN LINK'], [80, 95, 'SKILLS'], [9...\". Use `spacy.gold.biluo_tags_from_offsets(nlp.make_doc(text), entities)` to check the alignment. Misaligned entities (with BILUO tag '-') will be ignored during training.\n",
      "  gold = GoldParse(doc, **gold)\n",
      "C:\\Users\\hp\\anaconda3\\lib\\site-packages\\spacy\\language.py:482: UserWarning: [W030] Some entities could not be aligned in the text \"   \n",
      "Contact\n",
      "www.linkedin.com/in/parthvora27(Linked...\" with entities \"[[12, 43, 'LINKEDIN LINK'], [65, 90, 'SKILLS'], [9...\". Use `spacy.gold.biluo_tags_from_offsets(nlp.make_doc(text), entities)` to check the alignment. Misaligned entities (with BILUO tag '-') will be ignored during training.\n",
      "  gold = GoldParse(doc, **gold)\n",
      "C:\\Users\\hp\\anaconda3\\lib\\site-packages\\spacy\\language.py:482: UserWarning: [W030] Some entities could not be aligned in the text \"   \n",
      "Contact\n",
      "www.linkedin.com/in/pysaurav\n",
      "(LinkedIn...\" with entities \"[[12, 40, 'LINKEDIN LINK'], [63, 69, 'SKILLS'], [7...\". Use `spacy.gold.biluo_tags_from_offsets(nlp.make_doc(text), entities)` to check the alignment. Misaligned entities (with BILUO tag '-') will be ignored during training.\n",
      "  gold = GoldParse(doc, **gold)\n",
      "C:\\Users\\hp\\anaconda3\\lib\\site-packages\\spacy\\language.py:482: UserWarning: [W030] Some entities could not be aligned in the text \"   \n",
      "Contact\n",
      "www.linkedin.com/in/nchalise\n",
      "(LinkedIn...\" with entities \"[[12, 40, 'LINKEDIN LINK'], [63, 67, 'SKILLS'], [6...\". Use `spacy.gold.biluo_tags_from_offsets(nlp.make_doc(text), entities)` to check the alignment. Misaligned entities (with BILUO tag '-') will be ignored during training.\n",
      "  gold = GoldParse(doc, **gold)\n",
      "C:\\Users\\hp\\anaconda3\\lib\\site-packages\\spacy\\language.py:482: UserWarning: [W030] Some entities could not be aligned in the text \"   \n",
      "Contact\n",
      "www.linkedin.com/in/vibek-\n",
      "lamichhane-...\" with entities \"[[12, 59, 'LINKEDIN LINK'], [113, 115, 'SKILLS'], ...\". Use `spacy.gold.biluo_tags_from_offsets(nlp.make_doc(text), entities)` to check the alignment. Misaligned entities (with BILUO tag '-') will be ignored during training.\n",
      "  gold = GoldParse(doc, **gold)\n",
      "C:\\Users\\hp\\anaconda3\\lib\\site-packages\\spacy\\language.py:482: UserWarning: [W030] Some entities could not be aligned in the text \"   \n",
      "Contact\n",
      "www.linkedin.com/in/\n",
      "deepakpandit16  (...\" with entities \"[[12, 47, 'LINKEDIN LINK'], [60, 73, 'NAME'], [138...\". Use `spacy.gold.biluo_tags_from_offsets(nlp.make_doc(text), entities)` to check the alignment. Misaligned entities (with BILUO tag '-') will be ignored during training.\n",
      "  gold = GoldParse(doc, **gold)\n",
      "C:\\Users\\hp\\anaconda3\\lib\\site-packages\\spacy\\language.py:482: UserWarning: [W030] Some entities could not be aligned in the text \"   \n",
      "Contact\n",
      "www.linkedin.com/in/sharad52\n",
      "(LinkedIn...\" with entities \"[[12, 40, 'LINKEDIN LINK'], [63, 73, 'SKILLS'], [7...\". Use `spacy.gold.biluo_tags_from_offsets(nlp.make_doc(text), entities)` to check the alignment. Misaligned entities (with BILUO tag '-') will be ignored during training.\n",
      "  gold = GoldParse(doc, **gold)\n",
      "C:\\Users\\hp\\anaconda3\\lib\\site-packages\\spacy\\language.py:482: UserWarning: [W030] Some entities could not be aligned in the text \"Contact\n",
      "www.linkedin.com/in/yvonne-kua\n",
      "(LinkedIn)\n",
      "...\" with entities \"[[8, 38, 'LINKEDIN LINK'], [61, 76, 'SKILLS'], [77...\". Use `spacy.gold.biluo_tags_from_offsets(nlp.make_doc(text), entities)` to check the alignment. Misaligned entities (with BILUO tag '-') will be ignored during training.\n",
      "  gold = GoldParse(doc, **gold)\n",
      "C:\\Users\\hp\\anaconda3\\lib\\site-packages\\spacy\\language.py:482: UserWarning: [W030] Some entities could not be aligned in the text \"   \n",
      "Contact\n",
      "www.linkedin.com/in/dipendra-\n",
      "pandey  ...\" with entities \"[[12, 48, 'LINKEDIN LINK'], [72, 87, 'SKILLS'], [8...\". Use `spacy.gold.biluo_tags_from_offsets(nlp.make_doc(text), entities)` to check the alignment. Misaligned entities (with BILUO tag '-') will be ignored during training.\n",
      "  gold = GoldParse(doc, **gold)\n",
      "C:\\Users\\hp\\anaconda3\\lib\\site-packages\\spacy\\language.py:482: UserWarning: [W030] Some entities could not be aligned in the text \"Contact\n",
      "www.linkedin.com/in/ahsan-ullah(LinkedIn)\n",
      "...\" with entities \"[[8, 39, 'LINKEDIN LINK'], [61, 71, 'SKILLS'], [83...\". Use `spacy.gold.biluo_tags_from_offsets(nlp.make_doc(text), entities)` to check the alignment. Misaligned entities (with BILUO tag '-') will be ignored during training.\n",
      "  gold = GoldParse(doc, **gold)\n",
      "C:\\Users\\hp\\anaconda3\\lib\\site-packages\\spacy\\language.py:482: UserWarning: [W030] Some entities could not be aligned in the text \"   \n",
      "Contact\n",
      "www.linkedin.com/in/prashant-dev-\n",
      "shak...\" with entities \"[[12, 62, 'LINKEDIN LINK'], [86, 102, 'SKILLS'], [...\". Use `spacy.gold.biluo_tags_from_offsets(nlp.make_doc(text), entities)` to check the alignment. Misaligned entities (with BILUO tag '-') will be ignored during training.\n",
      "  gold = GoldParse(doc, **gold)\n",
      "C:\\Users\\hp\\anaconda3\\lib\\site-packages\\spacy\\language.py:482: UserWarning: [W030] Some entities could not be aligned in the text \"   \n",
      "Contact\n",
      "www.linkedin.com/in/bikash-gupta\n",
      "(Link...\" with entities \"[[12, 44, 'LINKEDIN LINK'], [67, 73, 'SKILLS'], [7...\". Use `spacy.gold.biluo_tags_from_offsets(nlp.make_doc(text), entities)` to check the alignment. Misaligned entities (with BILUO tag '-') will be ignored during training.\n",
      "  gold = GoldParse(doc, **gold)\n",
      "C:\\Users\\hp\\anaconda3\\lib\\site-packages\\spacy\\language.py:482: UserWarning: [W030] Some entities could not be aligned in the text \"   \n",
      "Contact\n",
      "www.linkedin.com/in/madhu-\n",
      "sudan-kamat...\" with entities \"[[12, 60, 'LINKEDIN LINK'], [83, 93, 'SKILLS'], [9...\". Use `spacy.gold.biluo_tags_from_offsets(nlp.make_doc(text), entities)` to check the alignment. Misaligned entities (with BILUO tag '-') will be ignored during training.\n",
      "  gold = GoldParse(doc, **gold)\n",
      "C:\\Users\\hp\\anaconda3\\lib\\site-packages\\spacy\\language.py:482: UserWarning: [W030] Some entities could not be aligned in the text \"   \n",
      "Contact\n",
      "www.linkedin.com/in/saurav-\n",
      "bhatta-6a6...\" with entities \"[[12, 56, 'LINKEDIN LINK'], [68, 81, 'NAME'], [82,...\". Use `spacy.gold.biluo_tags_from_offsets(nlp.make_doc(text), entities)` to check the alignment. Misaligned entities (with BILUO tag '-') will be ignored during training.\n",
      "  gold = GoldParse(doc, **gold)\n"
     ]
    },
    {
     "name": "stdout",
     "output_type": "stream",
     "text": [
      "{'tagger': 2210.1878044011355, 'parser': 0.0, 'ner': 191465.79747987638}\n",
      "Starting iteration 1\n",
      "{'tagger': 810.7171038210092, 'parser': 0.0, 'ner': 191355.25037503164}\n",
      "Starting iteration 2\n",
      "{'parser': 0.0, 'ner': 193418.7744162376, 'tagger': 450.65846070798705}\n",
      "Starting iteration 3\n",
      "{'parser': 0.0, 'ner': 193191.07110872876, 'tagger': 309.0088872710099}\n",
      "Starting iteration 4\n",
      "{'parser': 0.0, 'ner': 192841.50822451815, 'tagger': 260.39839885226536}\n",
      "Starting iteration 5\n",
      "{'tagger': 295.5335781337412, 'ner': 189890.79400253695, 'parser': 0.0}\n",
      "Starting iteration 6\n",
      "{'parser': 0.0, 'tagger': 286.6634837322117, 'ner': 188328.4037898055}\n",
      "Starting iteration 7\n",
      "{'ner': 188698.0069419802, 'parser': 0.0, 'tagger': 182.6076579851472}\n",
      "Starting iteration 8\n",
      "{'tagger': 134.13755326121915, 'parser': 0.0, 'ner': 186148.3298907403}\n",
      "Starting iteration 9\n",
      "{'parser': 0.0, 'ner': 185457.72958078844, 'tagger': 118.63818412512661}\n"
     ]
    }
   ],
   "source": [
    "train_model(train_data)"
   ]
  },
  {
   "cell_type": "code",
   "execution_count": 9,
   "id": "5e37cd7f-8010-4f4b-9b6f-20183e4fe88c",
   "metadata": {},
   "outputs": [],
   "source": [
    "#Save the model\n",
    "nlp.to_disk('nlp_model')"
   ]
  },
  {
   "cell_type": "code",
   "execution_count": 10,
   "id": "001922dd-671b-439a-bdec-51e38d154ab8",
   "metadata": {},
   "outputs": [],
   "source": [
    "nlp_model = spacy.load('nlp_model')"
   ]
  },
  {
   "cell_type": "code",
   "execution_count": 11,
   "id": "fc1037f5-6f89-4c74-bf25-01aed73937b7",
   "metadata": {},
   "outputs": [
    {
     "data": {
      "text/plain": [
       "[\"\\xa0 \\xa0\\nContact\\nwww.linkedin.com/in/bibek-\\nmaharjan-099125173  (LinkedIn)\\nTop Skills\\nAngularJS\\nAJAX\\nCascading Style Sheets (CSS) Bibek Maharjan\\nSenior Php laravel developer\\nKathmandu, Bāgmatī, Nepal\\nExperience\\nEsewa travels and tours\\n1 year 2 months\\nphp/Laravel developer\\nJanuary 2022\\xa0-\\xa0Present\\xa0 (1 year)\\npulchowk\\nSenior PHP Developer\\nNovember 2021\\xa0-\\xa0Present\\xa0 (1 year 2 months)\\nLalitpur District, Nepal\\nEducation\\nTribhuvan university, kathmandu\\nBachelor's degree,\\xa0Computer Programming/Programmer, .net\\n(mvc) \\xa0·\\xa0(2014\\xa0-\\xa02018)\\n\\xa0 Page 1 of 1\",\n",
       " {'entities': [[12, 57, 'LINKEDIN LINK'],\n",
       "   [81, 90, 'SKILLS'],\n",
       "   [91, 95, 'SKILLS'],\n",
       "   [96, 118, 'SKILLS'],\n",
       "   [125, 139, 'NAME'],\n",
       "   [169, 194, 'LOCATION'],\n",
       "   [206, 229, 'COMPANIES WORKED AT'],\n",
       "   [246, 267, 'WORKED AS'],\n",
       "   [293, 299, 'YEARS OF EXPERIENCE'],\n",
       "   [310, 330, 'WORKED AS'],\n",
       "   [357, 372, 'YEARS OF EXPERIENCE'],\n",
       "   [409, 440, 'UNIVERSITY'],\n",
       "   [441, 491, 'DEGREE']]}]"
      ]
     },
     "execution_count": 11,
     "metadata": {},
     "output_type": "execute_result"
    }
   ],
   "source": [
    "train_data[0]"
   ]
  },
  {
   "cell_type": "code",
   "execution_count": 12,
   "id": "b1efcf13-4db9-4981-9522-c59614788504",
   "metadata": {},
   "outputs": [
    {
     "name": "stdout",
     "output_type": "stream",
     "text": [
      "LINKEDIN LINK                  - www.linkedin.com/in/bibek-\n",
      "\n",
      "SKILLS                         - AngularJS\n",
      "SKILLS                         - AJAX\n",
      "LOCATION                       - Kathmandu\n",
      "COMPANIES WORKED AT            - pulchowk\n"
     ]
    }
   ],
   "source": [
    "doc = nlp_model(train_data[0][0])\n",
    "for ent in doc.ents:\n",
    "    print(f'{ent.label_.upper():{30}} - {ent.text}')"
   ]
  },
  {
   "cell_type": "code",
   "execution_count": 13,
   "id": "53f2d602-de0c-429c-aa29-6e830ffac6d5",
   "metadata": {},
   "outputs": [
    {
     "name": "stdout",
     "output_type": "stream",
     "text": [
      "Collecting PyMuPDF\n",
      "  Downloading PyMuPDF-1.22.3-cp39-cp39-win_amd64.whl (11.8 MB)\n",
      "     -------------------------------------- 11.8/11.8 MB 307.9 kB/s eta 0:00:00\n",
      "Installing collected packages: PyMuPDF\n",
      "Successfully installed PyMuPDF-1.22.3\n"
     ]
    }
   ],
   "source": [
    "!pip install PyMuPDF\n",
    "#PyPDF2 doesn't work properly"
   ]
  },
  {
   "cell_type": "code",
   "execution_count": 14,
   "id": "6586f064-363e-4b13-ac8b-32b0baccff90",
   "metadata": {},
   "outputs": [],
   "source": [
    "import sys, fitz"
   ]
  },
  {
   "cell_type": "code",
   "execution_count": 28,
   "id": "7944d74d-a307-47dd-9da6-f1a9fdab3f6c",
   "metadata": {},
   "outputs": [
    {
     "name": "stdout",
     "output_type": "stream",
     "text": [
      "Android Developer ROBERT SMITH Phone: (123) 456 78 99  Email: info@qwikresume.com Website: www.qwikresume.com LinkedIn: linkedin.com/qwikresume Address: 1737 Marshville Road, Alabama. Objective Over 6 years of IT industry experience with 4+ years of experience as Mobile application  developer in the field of Android. Experience in developing front end applications for Android  phones. Experience developing mobile applications on Android platform, building Custom UI using  Views, ViewGroups, Layouts, Widgets and graphics that scale based on the screen size using 9- patch images, localization, testing and publishing the applications to the Android Market. Skills Python, Java, C, Javascript, Matlab, R. Work Experience Android Developer ABC Corporation ­ January 2011 – March 2012   Environment Eclipse IDE, Android Studio, GenyMotion, Java, Android SDK, Android  Development Tools (ADT), JSON, XML,  Involved in the full life cycle of the project including analysis design, development, debugging, testing, and deployment.  Developed the application from specifications and requirement gathering.  Independently handled modules, scope, analysis, design, build, test the code, debug and  implement application.  Developed products section of the application which provided Multiple Activities, Custom  Adapters, Base Adapter, List views, Links, Web View, Text Views and so on.  Developed Navigation Drawer for the application, which provides better navigation of apps  features.  Created new UI Screens and key resource for layout UI work utilizing xml, Shape Drawable,  Text View, List View, Web View, Buttons, Activities, and Frame Layout. Android Developer ABC Corporation ­ 2006 – 2011   Helped Develop Insight, which is a tablet application that retrieves data from a CPE and  displays it  This is done to debug the DSL activity in someones home  Pulled info from a cloud server and coded it onto a tablet  Worked on UI and backend construction  Connected to various computer boards where I retrieved Wi-Fi information from a server -  Debugged code that was previously worked on by an outsourced company  There were many bugs and crashes in the app, and I cleaned them all, despite the size of the  code  Retrieved wiring and noise data from the CPE by connecting the tablet to the same network. © This Free Resume Template is the copyright of Qwikresume.com. Usage Guidelines Education IT Technology- 2011(Gyumri Information Technologies Center) © This Free Resume Template is the copyright of Qwikresume.com. Usage Guidelines \n"
     ]
    }
   ],
   "source": [
    "fname = 'C:/Users/hp/Documents/NLP Projects/Resume-Analyzer-NLP/data/test/android-developer-1559034496.pdf'\n",
    "doc = fitz.open(fname)\n",
    "\n",
    "text = \"\"\n",
    "for page in doc:\n",
    "    text += page.get_text()\n",
    "  \n",
    "\n",
    "tx = \" \".join(text.split('\\n'))\n",
    "print(tx)"
   ]
  },
  {
   "cell_type": "code",
   "execution_count": 29,
   "id": "b280c3ec-b9c5-4e0a-ba4e-302cb8a4bc04",
   "metadata": {},
   "outputs": [],
   "source": [
    "new_doc = nlp_model(tx)\n",
    "for ent in new_doc.ents:\n",
    "    print(f'{ent.label_.upper():{30}} - {ent.text}')"
   ]
  },
  {
   "cell_type": "code",
   "execution_count": null,
   "id": "a748014c-abd5-4ea1-8ee2-87c45a24ec01",
   "metadata": {},
   "outputs": [],
   "source": []
  },
  {
   "cell_type": "code",
   "execution_count": null,
   "id": "0577b84f-6c42-4fa0-8a8a-9fda96e85f74",
   "metadata": {},
   "outputs": [],
   "source": []
  },
  {
   "cell_type": "code",
   "execution_count": null,
   "id": "0b909801-e7c2-45e3-ba40-647752680925",
   "metadata": {},
   "outputs": [],
   "source": []
  }
 ],
 "metadata": {
  "kernelspec": {
   "display_name": "Python 3 (ipykernel)",
   "language": "python",
   "name": "python3"
  },
  "language_info": {
   "codemirror_mode": {
    "name": "ipython",
    "version": 3
   },
   "file_extension": ".py",
   "mimetype": "text/x-python",
   "name": "python",
   "nbconvert_exporter": "python",
   "pygments_lexer": "ipython3",
   "version": "3.9.13"
  }
 },
 "nbformat": 4,
 "nbformat_minor": 5
}
