{
 "cells": [
  {
   "cell_type": "code",
   "execution_count": null,
   "id": "afcf0ec7-e7a6-4aff-b88c-7ad1befd1590",
   "metadata": {},
   "outputs": [],
   "source": [
    "!pip install spacy_transformers\n",
    "!pip install -U spacy"
   ]
  },
  {
   "cell_type": "code",
   "execution_count": null,
   "id": "bb14297d-aa45-4567-8750-dda86f5273fe",
   "metadata": {},
   "outputs": [],
   "source": [
    "import spacy\n",
    "from spacy.tokens import DocBin\n",
    "from tqdm import tqdm\n",
    "import json"
   ]
  },
  {
   "cell_type": "code",
   "execution_count": null,
   "id": "671af8ba-37b0-468a-b3ca-d0998985a8cd",
   "metadata": {},
   "outputs": [],
   "source": [
    "train_data = json.load(open('C:/Users/hp/Documents/NLP Projects/Resume-Analyzer-NLP/data/training/job_dataset.json','r'))"
   ]
  },
  {
   "cell_type": "code",
   "execution_count": null,
   "id": "35c42868-5479-437e-a0f1-d991af0fbe67",
   "metadata": {},
   "outputs": [],
   "source": [
    "len(train_data)"
   ]
  },
  {
   "cell_type": "code",
   "execution_count": null,
   "id": "4d2c8148-1791-4947-b500-af08085fe7fd",
   "metadata": {},
   "outputs": [],
   "source": []
  }
 ],
 "metadata": {
  "kernelspec": {
   "display_name": "Python 3 (ipykernel)",
   "language": "python",
   "name": "python3"
  },
  "language_info": {
   "codemirror_mode": {
    "name": "ipython",
    "version": 3
   },
   "file_extension": ".py",
   "mimetype": "text/x-python",
   "name": "python",
   "nbconvert_exporter": "python",
   "pygments_lexer": "ipython3",
   "version": "3.9.13"
  }
 },
 "nbformat": 4,
 "nbformat_minor": 5
}
