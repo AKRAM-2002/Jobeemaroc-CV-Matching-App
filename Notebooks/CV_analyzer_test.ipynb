{
  "nbformat": 4,
  "nbformat_minor": 0,
  "metadata": {
    "colab": {
      "provenance": []
    },
    "kernelspec": {
      "name": "python3",
      "display_name": "Python 3"
    },
    "language_info": {
      "name": "python"
    }
  },
  "cells": [
    {
      "cell_type": "markdown",
      "source": [
        "Using this simple approach of similarity to compare two resumes and see what fits the job description the most"
      ],
      "metadata": {
        "id": "qsWRIY3gqtgw"
      }
    },
    {
      "cell_type": "code",
      "execution_count": 43,
      "metadata": {
        "colab": {
          "base_uri": "https://localhost:8080/"
        },
        "id": "SrzOxdjrqpYF",
        "outputId": "a437b7c6-a899-4e0d-a5ab-70119d326f98"
      },
      "outputs": [
        {
          "output_type": "stream",
          "name": "stdout",
          "text": [
            "Looking in indexes: https://pypi.org/simple, https://us-python.pkg.dev/colab-wheels/public/simple/\n",
            "Requirement already satisfied: docx2txt in /usr/local/lib/python3.10/dist-packages (0.8)\n"
          ]
        }
      ],
      "source": [
        "!pip install docx2txt"
      ]
    },
    {
      "cell_type": "code",
      "source": [
        "import docx2txt"
      ],
      "metadata": {
        "id": "APBzunphqtCi"
      },
      "execution_count": 44,
      "outputs": []
    },
    {
      "cell_type": "code",
      "source": [
        "job_description = docx2txt.process(\"/content/description_job.docx\")"
      ],
      "metadata": {
        "id": "4f4mgiZdqtGN"
      },
      "execution_count": 45,
      "outputs": []
    },
    {
      "cell_type": "code",
      "source": [
        "re1 = docx2txt.process('/content/Resume1.docx')\n",
        "re2 = docx2txt.process('/content/Resume2.docx')"
      ],
      "metadata": {
        "id": "N8gh0XhpqtI0"
      },
      "execution_count": 46,
      "outputs": []
    },
    {
      "cell_type": "code",
      "source": [
        "print(re1)"
      ],
      "metadata": {
        "colab": {
          "base_uri": "https://localhost:8080/"
        },
        "id": "dcwE6pDGqtL2",
        "outputId": "aa1b4bc9-4684-4926-d0c1-addf063ebbb6"
      },
      "execution_count": 47,
      "outputs": [
        {
          "output_type": "stream",
          "name": "stdout",
          "text": [
            "Name: John Smith\n",
            "\n",
            "\n",
            "\n",
            "Education:\n",
            "\n",
            "\n",
            "\n",
            "Bachelor's Degree in Marketing, XYZ University (2016-2020)\n",
            "\n",
            "Experience:\n",
            "\n",
            "\n",
            "\n",
            "Marketing Coordinator, ABC Company (2019-2022)\n",
            "\n",
            "Assisted in the development and execution of digital marketing campaigns, including social media, email marketing, and content creation.\n",
            "\n",
            "Conducted market research and competitor analysis to identify new opportunities and improve campaign performance.\n",
            "\n",
            "Collaborated with cross-functional teams to ensure alignment of marketing strategies with business goals.\n",
            "\n",
            "Digital Marketing Intern, XYZ Enterprises (2018)\n",
            "\n",
            "Supported the marketing team in managing social media platforms and creating engaging content.\n",
            "\n",
            "Assisted in analyzing campaign performance data and provided insights for optimization.\n",
            "\n",
            "Skills:\n",
            "\n",
            "\n",
            "\n",
            "Digital marketing campaign management, including social media, email marketing, and content creation.\n",
            "\n",
            "Market research and competitor analysis.\n",
            "\n",
            "Excellent written and verbal communication skills.\n",
            "\n",
            "Proficient in marketing analytics and data-driven decision making.\n"
          ]
        }
      ]
    },
    {
      "cell_type": "code",
      "source": [
        "content1 = [job_description, re1]\n",
        "content2 = [job_description, re2]"
      ],
      "metadata": {
        "id": "kOzFTROF-Ct5"
      },
      "execution_count": 48,
      "outputs": []
    },
    {
      "cell_type": "code",
      "source": [
        "#Using tfidf for vectorization\n",
        "from sklearn.feature_extraction.text import TfidfVectorizer\n",
        "tfidf = TfidfVectorizer()\n",
        "tr1 = tfidf.fit_transform(content1)\n",
        "tr2 = tfidf.fit_transform(content2)"
      ],
      "metadata": {
        "id": "_77JkCTJc01s"
      },
      "execution_count": 65,
      "outputs": []
    },
    {
      "cell_type": "code",
      "source": [
        "from sklearn.metrics.pairwise import cosine_similarity\n",
        "similarity_matrix1 = cosine_similarity(tr1)\n",
        "similarity_matrix2 = cosine_similarity(tr2)"
      ],
      "metadata": {
        "id": "Y_9efpTtdlKz"
      },
      "execution_count": 67,
      "outputs": []
    },
    {
      "cell_type": "code",
      "source": [
        "print(similarity_matrix1)"
      ],
      "metadata": {
        "colab": {
          "base_uri": "https://localhost:8080/"
        },
        "id": "BYg5wVQedwPD",
        "outputId": "3e765014-f47c-493d-f3df-93a4f8ae3508"
      },
      "execution_count": 64,
      "outputs": [
        {
          "output_type": "stream",
          "name": "stdout",
          "text": [
            "[[1.         0.71515087]\n",
            " [0.71515087 1.        ]]\n"
          ]
        }
      ]
    },
    {
      "cell_type": "code",
      "source": [
        "print(similarity_matrix2)"
      ],
      "metadata": {
        "colab": {
          "base_uri": "https://localhost:8080/"
        },
        "id": "zKqbeeRfeGwW",
        "outputId": "4bb07aac-a483-4550-f940-9bceeb33f9eb"
      },
      "execution_count": 68,
      "outputs": [
        {
          "output_type": "stream",
          "name": "stdout",
          "text": [
            "[[1.         0.70518194]\n",
            " [0.70518194 1.        ]]\n"
          ]
        }
      ]
    },
    {
      "cell_type": "code",
      "source": [
        "print(\"Resume1 matches by:\"+ str(round(similarity_matrix1[1][0] * 100)) + '%')"
      ],
      "metadata": {
        "colab": {
          "base_uri": "https://localhost:8080/"
        },
        "id": "pz1WjhxZAtLe",
        "outputId": "f5e12802-e1cc-467a-de40-9bf3ce4bac38"
      },
      "execution_count": 69,
      "outputs": [
        {
          "output_type": "stream",
          "name": "stdout",
          "text": [
            "Resume1 matches by:72%\n"
          ]
        }
      ]
    },
    {
      "cell_type": "code",
      "source": [
        "print(\"Resume2 matches by:\"+ str(round(similarity_matrix2[1][0] * 100)) + '%')"
      ],
      "metadata": {
        "colab": {
          "base_uri": "https://localhost:8080/"
        },
        "id": "g6m5azv-BIhu",
        "outputId": "7849031c-40f4-478c-c6d4-298b2ea16708"
      },
      "execution_count": 70,
      "outputs": [
        {
          "output_type": "stream",
          "name": "stdout",
          "text": [
            "Resume2 matches by:71%\n"
          ]
        }
      ]
    }
  ]
}