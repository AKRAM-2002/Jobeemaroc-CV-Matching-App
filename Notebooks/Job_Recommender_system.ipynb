{
 "cells": [
  {
   "cell_type": "markdown",
   "metadata": {
    "id": "d-5n1V1e0y5l"
   },
   "source": [
    "**HR ANALYTICS**:\n",
    "\n",
    "suggest the best jobs for the candidates that want to apply for a job using the KNN algorithm for classification and score matching technique"
   ]
  },
  {
   "cell_type": "code",
   "execution_count": 1,
   "metadata": {
    "colab": {
     "base_uri": "https://localhost:8080/"
    },
    "id": "5aGaWVLzl39A",
    "outputId": "32a9c807-446e-4d2e-fad0-eab90f9f3439"
   },
   "outputs": [
    {
     "name": "stdout",
     "output_type": "stream",
     "text": [
      "Requirement already satisfied: pyresparser in c:\\users\\hp\\anaconda3\\lib\\site-packages (1.0.6)\n",
      "Requirement already satisfied: attrs>=19.1.0 in c:\\users\\hp\\anaconda3\\lib\\site-packages (from pyresparser) (21.4.0)\n",
      "Requirement already satisfied: blis>=0.2.4 in c:\\users\\hp\\anaconda3\\lib\\site-packages (from pyresparser) (0.7.9)\n",
      "Requirement already satisfied: certifi>=2019.6.16 in c:\\users\\hp\\anaconda3\\lib\\site-packages (from pyresparser) (2022.9.14)\n",
      "Requirement already satisfied: chardet>=3.0.4 in c:\\users\\hp\\anaconda3\\lib\\site-packages (from pyresparser) (4.0.0)\n",
      "Requirement already satisfied: cymem>=2.0.2 in c:\\users\\hp\\anaconda3\\lib\\site-packages (from pyresparser) (2.0.7)\n",
      "Requirement already satisfied: docx2txt>=0.7 in c:\\users\\hp\\anaconda3\\lib\\site-packages (from pyresparser) (0.8)\n",
      "Requirement already satisfied: idna>=2.8 in c:\\users\\hp\\anaconda3\\lib\\site-packages (from pyresparser) (3.3)\n",
      "Requirement already satisfied: jsonschema>=3.0.1 in c:\\users\\hp\\anaconda3\\lib\\site-packages (from pyresparser) (4.16.0)\n",
      "Requirement already satisfied: nltk>=3.4.3 in c:\\users\\hp\\anaconda3\\lib\\site-packages (from pyresparser) (3.7)\n",
      "Requirement already satisfied: numpy>=1.16.4 in c:\\users\\hp\\anaconda3\\lib\\site-packages (from pyresparser) (1.21.5)\n",
      "Requirement already satisfied: pandas>=0.24.2 in c:\\users\\hp\\anaconda3\\lib\\site-packages (from pyresparser) (1.4.4)\n",
      "Requirement already satisfied: pdfminer.six>=20181108 in c:\\users\\hp\\anaconda3\\lib\\site-packages (from pyresparser) (20221105)\n",
      "Requirement already satisfied: preshed>=2.0.1 in c:\\users\\hp\\anaconda3\\lib\\site-packages (from pyresparser) (3.0.8)\n",
      "Requirement already satisfied: pycryptodome>=3.8.2 in c:\\users\\hp\\anaconda3\\lib\\site-packages (from pyresparser) (3.18.0)\n",
      "Requirement already satisfied: pyrsistent>=0.15.2 in c:\\users\\hp\\anaconda3\\lib\\site-packages (from pyresparser) (0.18.0)\n",
      "Requirement already satisfied: python-dateutil>=2.8.0 in c:\\users\\hp\\anaconda3\\lib\\site-packages (from pyresparser) (2.8.2)\n",
      "Requirement already satisfied: pytz>=2019.1 in c:\\users\\hp\\anaconda3\\lib\\site-packages (from pyresparser) (2022.1)\n",
      "Requirement already satisfied: requests>=2.22.0 in c:\\users\\hp\\anaconda3\\lib\\site-packages (from pyresparser) (2.28.1)\n",
      "Requirement already satisfied: six>=1.12.0 in c:\\users\\hp\\anaconda3\\lib\\site-packages (from pyresparser) (1.16.0)\n",
      "Requirement already satisfied: sortedcontainers>=2.1.0 in c:\\users\\hp\\anaconda3\\lib\\site-packages (from pyresparser) (2.4.0)\n",
      "Requirement already satisfied: spacy>=2.1.4 in c:\\users\\hp\\anaconda3\\lib\\site-packages (from pyresparser) (2.3.5)\n",
      "Requirement already satisfied: srsly>=0.0.7 in c:\\users\\hp\\anaconda3\\lib\\site-packages (from pyresparser) (2.4.6)\n",
      "Requirement already satisfied: thinc>=7.0.4 in c:\\users\\hp\\anaconda3\\lib\\site-packages (from pyresparser) (7.4.6)\n",
      "Requirement already satisfied: tqdm>=4.32.2 in c:\\users\\hp\\anaconda3\\lib\\site-packages (from pyresparser) (4.64.1)\n",
      "Requirement already satisfied: urllib3>=1.25.3 in c:\\users\\hp\\anaconda3\\lib\\site-packages (from pyresparser) (1.26.11)\n",
      "Requirement already satisfied: wasabi>=0.2.2 in c:\\users\\hp\\anaconda3\\lib\\site-packages (from pyresparser) (0.10.1)\n",
      "Requirement already satisfied: click in c:\\users\\hp\\anaconda3\\lib\\site-packages (from nltk>=3.4.3->pyresparser) (8.0.4)\n",
      "Requirement already satisfied: joblib in c:\\users\\hp\\anaconda3\\lib\\site-packages (from nltk>=3.4.3->pyresparser) (1.1.0)\n",
      "Requirement already satisfied: regex>=2021.8.3 in c:\\users\\hp\\anaconda3\\lib\\site-packages (from nltk>=3.4.3->pyresparser) (2022.7.9)\n",
      "Requirement already satisfied: charset-normalizer>=2.0.0 in c:\\users\\hp\\anaconda3\\lib\\site-packages (from pdfminer.six>=20181108->pyresparser) (2.0.4)\n",
      "Requirement already satisfied: cryptography>=36.0.0 in c:\\users\\hp\\anaconda3\\lib\\site-packages (from pdfminer.six>=20181108->pyresparser) (37.0.1)\n",
      "Requirement already satisfied: murmurhash<1.1.0,>=0.28.0 in c:\\users\\hp\\anaconda3\\lib\\site-packages (from preshed>=2.0.1->pyresparser) (1.0.9)\n",
      "Collecting srsly>=0.0.7 (from pyresparser)\n",
      "  Using cached srsly-1.0.6-cp39-cp39-win_amd64.whl (198 kB)\n",
      "Collecting catalogue<1.1.0,>=0.0.7 (from spacy>=2.1.4->pyresparser)\n",
      "  Using cached catalogue-1.0.2-py2.py3-none-any.whl (16 kB)\n",
      "Requirement already satisfied: setuptools in c:\\users\\hp\\anaconda3\\lib\\site-packages (from spacy>=2.1.4->pyresparser) (67.8.0)\n",
      "Requirement already satisfied: plac<1.2.0,>=0.9.6 in c:\\users\\hp\\anaconda3\\lib\\site-packages (from spacy>=2.1.4->pyresparser) (1.1.3)\n",
      "Requirement already satisfied: colorama in c:\\users\\hp\\anaconda3\\lib\\site-packages (from tqdm>=4.32.2->pyresparser) (0.4.6)\n",
      "Requirement already satisfied: cffi>=1.12 in c:\\users\\hp\\anaconda3\\lib\\site-packages (from cryptography>=36.0.0->pdfminer.six>=20181108->pyresparser) (1.15.1)\n",
      "Requirement already satisfied: pycparser in c:\\users\\hp\\anaconda3\\lib\\site-packages (from cffi>=1.12->cryptography>=36.0.0->pdfminer.six>=20181108->pyresparser) (2.21)\n",
      "Installing collected packages: srsly, catalogue\n",
      "  Attempting uninstall: srsly\n",
      "    Found existing installation: srsly 2.4.6\n",
      "    Uninstalling srsly-2.4.6:\n",
      "      Successfully uninstalled srsly-2.4.6\n",
      "  Attempting uninstall: catalogue\n",
      "    Found existing installation: catalogue 2.0.8\n",
      "    Uninstalling catalogue-2.0.8:\n",
      "      Successfully uninstalled catalogue-2.0.8\n",
      "Successfully installed catalogue-1.0.2 srsly-1.0.6\n"
     ]
    },
    {
     "name": "stderr",
     "output_type": "stream",
     "text": [
      "ERROR: pip's dependency resolver does not currently take into account all the packages that are installed. This behaviour is the source of the following dependency conflicts.\n",
      "confection 0.0.4 requires srsly<3.0.0,>=2.4.0, but you have srsly 1.0.6 which is incompatible.\n"
     ]
    }
   ],
   "source": [
    "!pip install pyresparser"
   ]
  },
  {
   "cell_type": "code",
   "execution_count": 2,
   "metadata": {
    "colab": {
     "base_uri": "https://localhost:8080/"
    },
    "id": "V5bWKoehmIhA",
    "outputId": "a1e1e23a-b740-47da-c185-c827b442ae6f"
   },
   "outputs": [
    {
     "name": "stdout",
     "output_type": "stream",
     "text": [
      "Requirement already satisfied: docx in c:\\users\\hp\\anaconda3\\lib\\site-packages (0.2.4)\n",
      "Requirement already satisfied: lxml in c:\\users\\hp\\anaconda3\\lib\\site-packages (from docx) (4.9.1)\n",
      "Requirement already satisfied: Pillow>=2.0 in c:\\users\\hp\\anaconda3\\lib\\site-packages (from docx) (9.2.0)\n",
      "Requirement already satisfied: python-docx in c:\\users\\hp\\anaconda3\\lib\\site-packages (0.8.11)\n",
      "Requirement already satisfied: lxml>=2.3.2 in c:\\users\\hp\\anaconda3\\lib\\site-packages (from python-docx) (4.9.1)\n"
     ]
    }
   ],
   "source": [
    "!pip install docx\n",
    "!pip install python-docx"
   ]
  },
  {
   "cell_type": "code",
   "execution_count": 3,
   "metadata": {
    "colab": {
     "base_uri": "https://localhost:8080/"
    },
    "id": "fm-sjw_KdSun",
    "outputId": "30199958-2446-4ddd-bb04-eacbc2d4aa94"
   },
   "outputs": [
    {
     "name": "stdout",
     "output_type": "stream",
     "text": [
      "Requirement already satisfied: pip in c:\\users\\hp\\anaconda3\\lib\\site-packages (23.1.2)\n"
     ]
    }
   ],
   "source": [
    "!python -m pip install --upgrade pip"
   ]
  },
  {
   "cell_type": "code",
   "execution_count": 4,
   "metadata": {
    "colab": {
     "base_uri": "https://localhost:8080/"
    },
    "id": "h1DN_kV1dI3c",
    "outputId": "b421fe2c-d140-4b32-8014-106936341237"
   },
   "outputs": [
    {
     "name": "stdout",
     "output_type": "stream",
     "text": [
      "Requirement already satisfied: wheel in c:\\users\\hp\\anaconda3\\lib\\site-packages (0.40.0)\n"
     ]
    }
   ],
   "source": [
    "!pip install -U wheel"
   ]
  },
  {
   "cell_type": "code",
   "execution_count": 5,
   "metadata": {},
   "outputs": [],
   "source": [
    "#!pip uninstall spacy"
   ]
  },
  {
   "cell_type": "code",
   "execution_count": 6,
   "metadata": {
    "colab": {
     "base_uri": "https://localhost:8080/",
     "height": 1000
    },
    "id": "YUcltK8QfCVh",
    "outputId": "e8b52a45-b9db-414a-f0dd-cd55720d9518"
   },
   "outputs": [
    {
     "name": "stdout",
     "output_type": "stream",
     "text": [
      "Requirement already satisfied: pip in c:\\users\\hp\\anaconda3\\lib\\site-packages (23.1.2)\n",
      "Requirement already satisfied: setuptools in c:\\users\\hp\\anaconda3\\lib\\site-packages (67.8.0)\n",
      "Requirement already satisfied: wheel in c:\\users\\hp\\anaconda3\\lib\\site-packages (0.40.0)\n",
      "Requirement already satisfied: spacy==2.3.5 in c:\\users\\hp\\anaconda3\\lib\\site-packages (2.3.5)\n",
      "Requirement already satisfied: murmurhash<1.1.0,>=0.28.0 in c:\\users\\hp\\anaconda3\\lib\\site-packages (from spacy==2.3.5) (1.0.9)\n",
      "Requirement already satisfied: cymem<2.1.0,>=2.0.2 in c:\\users\\hp\\anaconda3\\lib\\site-packages (from spacy==2.3.5) (2.0.7)\n",
      "Requirement already satisfied: preshed<3.1.0,>=3.0.2 in c:\\users\\hp\\anaconda3\\lib\\site-packages (from spacy==2.3.5) (3.0.8)\n",
      "Requirement already satisfied: thinc<7.5.0,>=7.4.1 in c:\\users\\hp\\anaconda3\\lib\\site-packages (from spacy==2.3.5) (7.4.6)\n",
      "Requirement already satisfied: blis<0.8.0,>=0.4.0 in c:\\users\\hp\\anaconda3\\lib\\site-packages (from spacy==2.3.5) (0.7.9)\n",
      "Requirement already satisfied: wasabi<1.1.0,>=0.4.0 in c:\\users\\hp\\anaconda3\\lib\\site-packages (from spacy==2.3.5) (0.10.1)\n",
      "Requirement already satisfied: srsly<1.1.0,>=1.0.2 in c:\\users\\hp\\anaconda3\\lib\\site-packages (from spacy==2.3.5) (1.0.6)\n",
      "Requirement already satisfied: catalogue<1.1.0,>=0.0.7 in c:\\users\\hp\\anaconda3\\lib\\site-packages (from spacy==2.3.5) (1.0.2)\n",
      "Requirement already satisfied: tqdm<5.0.0,>=4.38.0 in c:\\users\\hp\\anaconda3\\lib\\site-packages (from spacy==2.3.5) (4.64.1)\n",
      "Requirement already satisfied: setuptools in c:\\users\\hp\\anaconda3\\lib\\site-packages (from spacy==2.3.5) (67.8.0)\n",
      "Requirement already satisfied: numpy>=1.15.0 in c:\\users\\hp\\anaconda3\\lib\\site-packages (from spacy==2.3.5) (1.21.5)\n",
      "Requirement already satisfied: plac<1.2.0,>=0.9.6 in c:\\users\\hp\\anaconda3\\lib\\site-packages (from spacy==2.3.5) (1.1.3)\n",
      "Requirement already satisfied: requests<3.0.0,>=2.13.0 in c:\\users\\hp\\anaconda3\\lib\\site-packages (from spacy==2.3.5) (2.28.1)\n",
      "Requirement already satisfied: charset-normalizer<3,>=2 in c:\\users\\hp\\anaconda3\\lib\\site-packages (from requests<3.0.0,>=2.13.0->spacy==2.3.5) (2.0.4)\n",
      "Requirement already satisfied: idna<4,>=2.5 in c:\\users\\hp\\anaconda3\\lib\\site-packages (from requests<3.0.0,>=2.13.0->spacy==2.3.5) (3.3)\n",
      "Requirement already satisfied: urllib3<1.27,>=1.21.1 in c:\\users\\hp\\anaconda3\\lib\\site-packages (from requests<3.0.0,>=2.13.0->spacy==2.3.5) (1.26.11)\n",
      "Requirement already satisfied: certifi>=2017.4.17 in c:\\users\\hp\\anaconda3\\lib\\site-packages (from requests<3.0.0,>=2.13.0->spacy==2.3.5) (2022.9.14)\n",
      "Requirement already satisfied: colorama in c:\\users\\hp\\anaconda3\\lib\\site-packages (from tqdm<5.0.0,>=4.38.0->spacy==2.3.5) (0.4.6)\n"
     ]
    }
   ],
   "source": [
    "!pip install --upgrade pip setuptools wheel\n",
    "!pip install spacy==2.3.5"
   ]
  },
  {
   "cell_type": "code",
   "execution_count": 7,
   "metadata": {
    "colab": {
     "base_uri": "https://localhost:8080/"
    },
    "id": "hjnLoVpQczpD",
    "outputId": "9c7437fb-3e62-4021-8f22-5944937df3ed"
   },
   "outputs": [
    {
     "name": "stdout",
     "output_type": "stream",
     "text": [
      "Collecting en_core_web_sm==2.3.1\n",
      "  Downloading https://github.com/explosion/spacy-models/releases/download/en_core_web_sm-2.3.1/en_core_web_sm-2.3.1.tar.gz (12.0 MB)\n",
      "     ---------------------------------------- 12.0/12.0 MB 1.5 MB/s eta 0:00:00\n",
      "  Preparing metadata (setup.py): started\n",
      "  Preparing metadata (setup.py): finished with status 'done'\n",
      "Requirement already satisfied: spacy<2.4.0,>=2.3.0 in c:\\users\\hp\\anaconda3\\lib\\site-packages (from en_core_web_sm==2.3.1) (2.3.5)\n",
      "Requirement already satisfied: murmurhash<1.1.0,>=0.28.0 in c:\\users\\hp\\anaconda3\\lib\\site-packages (from spacy<2.4.0,>=2.3.0->en_core_web_sm==2.3.1) (1.0.9)\n",
      "Requirement already satisfied: cymem<2.1.0,>=2.0.2 in c:\\users\\hp\\anaconda3\\lib\\site-packages (from spacy<2.4.0,>=2.3.0->en_core_web_sm==2.3.1) (2.0.7)\n",
      "Requirement already satisfied: preshed<3.1.0,>=3.0.2 in c:\\users\\hp\\anaconda3\\lib\\site-packages (from spacy<2.4.0,>=2.3.0->en_core_web_sm==2.3.1) (3.0.8)\n",
      "Requirement already satisfied: thinc<7.5.0,>=7.4.1 in c:\\users\\hp\\anaconda3\\lib\\site-packages (from spacy<2.4.0,>=2.3.0->en_core_web_sm==2.3.1) (7.4.6)\n",
      "Requirement already satisfied: blis<0.8.0,>=0.4.0 in c:\\users\\hp\\anaconda3\\lib\\site-packages (from spacy<2.4.0,>=2.3.0->en_core_web_sm==2.3.1) (0.7.9)\n",
      "Requirement already satisfied: wasabi<1.1.0,>=0.4.0 in c:\\users\\hp\\anaconda3\\lib\\site-packages (from spacy<2.4.0,>=2.3.0->en_core_web_sm==2.3.1) (0.10.1)\n",
      "Requirement already satisfied: srsly<1.1.0,>=1.0.2 in c:\\users\\hp\\anaconda3\\lib\\site-packages (from spacy<2.4.0,>=2.3.0->en_core_web_sm==2.3.1) (1.0.6)\n",
      "Requirement already satisfied: catalogue<1.1.0,>=0.0.7 in c:\\users\\hp\\anaconda3\\lib\\site-packages (from spacy<2.4.0,>=2.3.0->en_core_web_sm==2.3.1) (1.0.2)\n",
      "Requirement already satisfied: tqdm<5.0.0,>=4.38.0 in c:\\users\\hp\\anaconda3\\lib\\site-packages (from spacy<2.4.0,>=2.3.0->en_core_web_sm==2.3.1) (4.64.1)\n",
      "Requirement already satisfied: setuptools in c:\\users\\hp\\anaconda3\\lib\\site-packages (from spacy<2.4.0,>=2.3.0->en_core_web_sm==2.3.1) (67.8.0)\n",
      "Requirement already satisfied: numpy>=1.15.0 in c:\\users\\hp\\anaconda3\\lib\\site-packages (from spacy<2.4.0,>=2.3.0->en_core_web_sm==2.3.1) (1.21.5)\n",
      "Requirement already satisfied: plac<1.2.0,>=0.9.6 in c:\\users\\hp\\anaconda3\\lib\\site-packages (from spacy<2.4.0,>=2.3.0->en_core_web_sm==2.3.1) (1.1.3)\n",
      "Requirement already satisfied: requests<3.0.0,>=2.13.0 in c:\\users\\hp\\anaconda3\\lib\\site-packages (from spacy<2.4.0,>=2.3.0->en_core_web_sm==2.3.1) (2.28.1)\n",
      "Requirement already satisfied: charset-normalizer<3,>=2 in c:\\users\\hp\\anaconda3\\lib\\site-packages (from requests<3.0.0,>=2.13.0->spacy<2.4.0,>=2.3.0->en_core_web_sm==2.3.1) (2.0.4)\n",
      "Requirement already satisfied: idna<4,>=2.5 in c:\\users\\hp\\anaconda3\\lib\\site-packages (from requests<3.0.0,>=2.13.0->spacy<2.4.0,>=2.3.0->en_core_web_sm==2.3.1) (3.3)\n",
      "Requirement already satisfied: urllib3<1.27,>=1.21.1 in c:\\users\\hp\\anaconda3\\lib\\site-packages (from requests<3.0.0,>=2.13.0->spacy<2.4.0,>=2.3.0->en_core_web_sm==2.3.1) (1.26.11)\n",
      "Requirement already satisfied: certifi>=2017.4.17 in c:\\users\\hp\\anaconda3\\lib\\site-packages (from requests<3.0.0,>=2.13.0->spacy<2.4.0,>=2.3.0->en_core_web_sm==2.3.1) (2022.9.14)\n",
      "Requirement already satisfied: colorama in c:\\users\\hp\\anaconda3\\lib\\site-packages (from tqdm<5.0.0,>=4.38.0->spacy<2.4.0,>=2.3.0->en_core_web_sm==2.3.1) (0.4.6)\n",
      "[+] Download and installation successful\n",
      "You can now load the model via spacy.load('en_core_web_sm')\n"
     ]
    },
    {
     "name": "stderr",
     "output_type": "stream",
     "text": [
      "DEPRECATION: https://github.com/explosion/spacy-models/releases/download/en_core_web_sm-2.3.1/en_core_web_sm-2.3.1.tar.gz#egg=en_core_web_sm==2.3.1 contains an egg fragment with a non-PEP 508 name pip 25.0 will enforce this behaviour change. A possible replacement is to use the req @ url syntax, and remove the egg fragment. Discussion can be found at https://github.com/pypa/pip/issues/11617\n"
     ]
    }
   ],
   "source": [
    "#!pip install spacy==2.3.5\n",
    "!python -m spacy download en_core_web_sm"
   ]
  },
  {
   "cell_type": "code",
   "execution_count": 2,
   "metadata": {
    "colab": {
     "base_uri": "https://localhost:8080/"
    },
    "id": "IPjJpCV_pn4f",
    "outputId": "c75099f8-3fe3-4770-f429-eb969b962da0"
   },
   "outputs": [
    {
     "name": "stderr",
     "output_type": "stream",
     "text": [
      "[nltk_data] Downloading package stopwords to\n",
      "[nltk_data]     C:\\Users\\hp\\AppData\\Roaming\\nltk_data...\n",
      "[nltk_data]   Package stopwords is already up-to-date!\n"
     ]
    }
   ],
   "source": [
    "import nltk\n",
    "import spacy\n",
    "import en_core_web_sm\n",
    "nltk.download('stopwords')\n",
    "from pyresparser import ResumeParser\n",
    "import os\n",
    "import json\n",
    "from docx import Document"
   ]
  },
  {
   "cell_type": "code",
   "execution_count": 3,
   "metadata": {
    "colab": {
     "base_uri": "https://localhost:8080/",
     "height": 35
    },
    "id": "kGdhvAWYaC7T",
    "outputId": "20ac1fc7-d33e-4dd9-ce3c-f6449c4748fa"
   },
   "outputs": [
    {
     "data": {
      "text/plain": [
       "'2.3.5'"
      ]
     },
     "execution_count": 3,
     "metadata": {},
     "output_type": "execute_result"
    }
   ],
   "source": [
    "spacy.__version__\n",
    "#en_core_web_sm.__version__"
   ]
  },
  {
   "cell_type": "code",
   "execution_count": 11,
   "metadata": {
    "colab": {
     "base_uri": "https://localhost:8080/"
    },
    "id": "EKdS3Fc7lwk8",
    "outputId": "3440921b-dede-4182-db4a-5178e48e3dcc"
   },
   "outputs": [
    {
     "name": "stdout",
     "output_type": "stream",
     "text": [
      "\n",
      "| Loading compatibility table...\n",
      "\u001b[2K[+] Loaded compatibility table\n",
      "\u001b[1m\n",
      "====================== Installed models (spaCy v2.3.5) ======================\u001b[0m\n",
      "[i] spaCy installation: C:\\Users\\hp\\anaconda3\\lib\\site-packages\\spacy\n",
      "\n",
      "TYPE      NAME             MODEL            VERSION      \n",
      "package   en-core-web-sm   en_core_web_sm   2.3.1     [+]\n",
      "\n"
     ]
    }
   ],
   "source": [
    "!python -m spacy validate"
   ]
  },
  {
   "cell_type": "code",
   "execution_count": 6,
   "metadata": {},
   "outputs": [
    {
     "name": "stdout",
     "output_type": "stream",
     "text": [
      "Collecting en_core_web_sm==2.3.1\n",
      "  Downloading https://github.com/explosion/spacy-models/releases/download/en_core_web_sm-2.3.1/en_core_web_sm-2.3.1.tar.gz (12.0 MB)\n",
      "     -------------------------------------- 12.0/12.0 MB 901.0 kB/s eta 0:00:00\n",
      "  Preparing metadata (setup.py): started\n",
      "  Preparing metadata (setup.py): finished with status 'done'\n",
      "Requirement already satisfied: spacy<2.4.0,>=2.3.0 in c:\\users\\hp\\anaconda3\\lib\\site-packages (from en_core_web_sm==2.3.1) (2.3.5)\n",
      "Requirement already satisfied: murmurhash<1.1.0,>=0.28.0 in c:\\users\\hp\\anaconda3\\lib\\site-packages (from spacy<2.4.0,>=2.3.0->en_core_web_sm==2.3.1) (1.0.9)\n",
      "Requirement already satisfied: cymem<2.1.0,>=2.0.2 in c:\\users\\hp\\anaconda3\\lib\\site-packages (from spacy<2.4.0,>=2.3.0->en_core_web_sm==2.3.1) (2.0.7)\n",
      "Requirement already satisfied: preshed<3.1.0,>=3.0.2 in c:\\users\\hp\\anaconda3\\lib\\site-packages (from spacy<2.4.0,>=2.3.0->en_core_web_sm==2.3.1) (3.0.8)\n",
      "Requirement already satisfied: thinc<7.5.0,>=7.4.1 in c:\\users\\hp\\anaconda3\\lib\\site-packages (from spacy<2.4.0,>=2.3.0->en_core_web_sm==2.3.1) (7.4.6)\n",
      "Requirement already satisfied: blis<0.8.0,>=0.4.0 in c:\\users\\hp\\anaconda3\\lib\\site-packages (from spacy<2.4.0,>=2.3.0->en_core_web_sm==2.3.1) (0.7.9)\n",
      "Requirement already satisfied: wasabi<1.1.0,>=0.4.0 in c:\\users\\hp\\anaconda3\\lib\\site-packages (from spacy<2.4.0,>=2.3.0->en_core_web_sm==2.3.1) (0.10.1)\n",
      "Requirement already satisfied: srsly<1.1.0,>=1.0.2 in c:\\users\\hp\\anaconda3\\lib\\site-packages (from spacy<2.4.0,>=2.3.0->en_core_web_sm==2.3.1) (1.0.6)\n",
      "Requirement already satisfied: catalogue<1.1.0,>=0.0.7 in c:\\users\\hp\\anaconda3\\lib\\site-packages (from spacy<2.4.0,>=2.3.0->en_core_web_sm==2.3.1) (1.0.2)\n",
      "Requirement already satisfied: tqdm<5.0.0,>=4.38.0 in c:\\users\\hp\\anaconda3\\lib\\site-packages (from spacy<2.4.0,>=2.3.0->en_core_web_sm==2.3.1) (4.64.1)\n",
      "Requirement already satisfied: setuptools in c:\\users\\hp\\anaconda3\\lib\\site-packages (from spacy<2.4.0,>=2.3.0->en_core_web_sm==2.3.1) (67.8.0)\n",
      "Requirement already satisfied: numpy>=1.15.0 in c:\\users\\hp\\anaconda3\\lib\\site-packages (from spacy<2.4.0,>=2.3.0->en_core_web_sm==2.3.1) (1.21.5)\n",
      "Requirement already satisfied: plac<1.2.0,>=0.9.6 in c:\\users\\hp\\anaconda3\\lib\\site-packages (from spacy<2.4.0,>=2.3.0->en_core_web_sm==2.3.1) (1.1.3)\n",
      "Requirement already satisfied: requests<3.0.0,>=2.13.0 in c:\\users\\hp\\anaconda3\\lib\\site-packages (from spacy<2.4.0,>=2.3.0->en_core_web_sm==2.3.1) (2.28.1)\n",
      "Requirement already satisfied: charset-normalizer<3,>=2 in c:\\users\\hp\\anaconda3\\lib\\site-packages (from requests<3.0.0,>=2.13.0->spacy<2.4.0,>=2.3.0->en_core_web_sm==2.3.1) (2.0.4)\n",
      "Requirement already satisfied: idna<4,>=2.5 in c:\\users\\hp\\anaconda3\\lib\\site-packages (from requests<3.0.0,>=2.13.0->spacy<2.4.0,>=2.3.0->en_core_web_sm==2.3.1) (3.3)\n",
      "Requirement already satisfied: urllib3<1.27,>=1.21.1 in c:\\users\\hp\\anaconda3\\lib\\site-packages (from requests<3.0.0,>=2.13.0->spacy<2.4.0,>=2.3.0->en_core_web_sm==2.3.1) (1.26.11)\n",
      "Requirement already satisfied: certifi>=2017.4.17 in c:\\users\\hp\\anaconda3\\lib\\site-packages (from requests<3.0.0,>=2.13.0->spacy<2.4.0,>=2.3.0->en_core_web_sm==2.3.1) (2022.9.14)\n",
      "Requirement already satisfied: colorama in c:\\users\\hp\\anaconda3\\lib\\site-packages (from tqdm<5.0.0,>=4.38.0->spacy<2.4.0,>=2.3.0->en_core_web_sm==2.3.1) (0.4.6)\n",
      "[+] Download and installation successful\n",
      "You can now load the model via spacy.load('en_core_web_sm')\n",
      "[x] Couldn't link model to 'en'\n",
      "Creating a symlink in spacy/data failed. Make sure you have the required\n",
      "permissions and try re-running the command as admin, or use a virtualenv. You\n",
      "can still import the model as a module and call its load() method, or create the\n",
      "symlink manually.\n",
      "C:\\Users\\hp\\anaconda3\\lib\\site-packages\\en_core_web_sm -->\n",
      "C:\\Users\\hp\\anaconda3\\lib\\site-packages\\spacy\\data\\en\n",
      "[!] Download successful but linking failed\n",
      "Creating a shortcut link for 'en' didn't work (maybe you don't have admin\n",
      "permissions?), but you can still load the model via its full package name: nlp =\n",
      "spacy.load('en_core_web_sm')\n"
     ]
    },
    {
     "name": "stderr",
     "output_type": "stream",
     "text": [
      "DEPRECATION: https://github.com/explosion/spacy-models/releases/download/en_core_web_sm-2.3.1/en_core_web_sm-2.3.1.tar.gz#egg=en_core_web_sm==2.3.1 contains an egg fragment with a non-PEP 508 name pip 25.0 will enforce this behaviour change. A possible replacement is to use the req @ url syntax, and remove the egg fragment. Discussion can be found at https://github.com/pypa/pip/issues/11617\n",
      "Vous ne disposez pas de privilèges suffisants pour effectuer cette opération.\n"
     ]
    }
   ],
   "source": [
    "!python -m spacy download en\n"
   ]
  },
  {
   "cell_type": "code",
   "execution_count": 9,
   "metadata": {},
   "outputs": [
    {
     "name": "stdout",
     "output_type": "stream",
     "text": [
      "Collecting en_core_web_sm==2.3.1"
     ]
    },
    {
     "name": "stderr",
     "output_type": "stream",
     "text": [
      "DEPRECATION: https://github.com/explosion/spacy-models/releases/download/en_core_web_sm-2.3.1/en_core_web_sm-2.3.1.tar.gz#egg=en_core_web_sm==2.3.1 contains an egg fragment with a non-PEP 508 name pip 25.0 will enforce this behaviour change. A possible replacement is to use the req @ url syntax, and remove the egg fragment. Discussion can be found at https://github.com/pypa/pip/issues/11617\n"
     ]
    },
    {
     "name": "stdout",
     "output_type": "stream",
     "text": [
      "\n",
      "  Downloading https://github.com/explosion/spacy-models/releases/download/en_core_web_sm-2.3.1/en_core_web_sm-2.3.1.tar.gz (12.0 MB)\n",
      "     ---------------------------------------- 12.0/12.0 MB 1.4 MB/s eta 0:00:00\n",
      "  Preparing metadata (setup.py): started\n",
      "  Preparing metadata (setup.py): finished with status 'done'\n",
      "Requirement already satisfied: spacy<2.4.0,>=2.3.0 in c:\\users\\hp\\anaconda3\\lib\\site-packages (from en_core_web_sm==2.3.1) (2.3.5)\n",
      "Requirement already satisfied: murmurhash<1.1.0,>=0.28.0 in c:\\users\\hp\\anaconda3\\lib\\site-packages (from spacy<2.4.0,>=2.3.0->en_core_web_sm==2.3.1) (1.0.9)\n",
      "Requirement already satisfied: cymem<2.1.0,>=2.0.2 in c:\\users\\hp\\anaconda3\\lib\\site-packages (from spacy<2.4.0,>=2.3.0->en_core_web_sm==2.3.1) (2.0.7)\n",
      "Requirement already satisfied: preshed<3.1.0,>=3.0.2 in c:\\users\\hp\\anaconda3\\lib\\site-packages (from spacy<2.4.0,>=2.3.0->en_core_web_sm==2.3.1) (3.0.8)\n",
      "Requirement already satisfied: thinc<7.5.0,>=7.4.1 in c:\\users\\hp\\anaconda3\\lib\\site-packages (from spacy<2.4.0,>=2.3.0->en_core_web_sm==2.3.1) (7.4.6)\n",
      "Requirement already satisfied: blis<0.8.0,>=0.4.0 in c:\\users\\hp\\anaconda3\\lib\\site-packages (from spacy<2.4.0,>=2.3.0->en_core_web_sm==2.3.1) (0.7.9)\n",
      "Requirement already satisfied: wasabi<1.1.0,>=0.4.0 in c:\\users\\hp\\anaconda3\\lib\\site-packages (from spacy<2.4.0,>=2.3.0->en_core_web_sm==2.3.1) (0.10.1)\n",
      "Requirement already satisfied: srsly<1.1.0,>=1.0.2 in c:\\users\\hp\\anaconda3\\lib\\site-packages (from spacy<2.4.0,>=2.3.0->en_core_web_sm==2.3.1) (1.0.6)\n",
      "Requirement already satisfied: catalogue<1.1.0,>=0.0.7 in c:\\users\\hp\\anaconda3\\lib\\site-packages (from spacy<2.4.0,>=2.3.0->en_core_web_sm==2.3.1) (1.0.2)\n",
      "Requirement already satisfied: tqdm<5.0.0,>=4.38.0 in c:\\users\\hp\\anaconda3\\lib\\site-packages (from spacy<2.4.0,>=2.3.0->en_core_web_sm==2.3.1) (4.64.1)\n",
      "Requirement already satisfied: setuptools in c:\\users\\hp\\anaconda3\\lib\\site-packages (from spacy<2.4.0,>=2.3.0->en_core_web_sm==2.3.1) (67.8.0)\n",
      "Requirement already satisfied: numpy>=1.15.0 in c:\\users\\hp\\anaconda3\\lib\\site-packages (from spacy<2.4.0,>=2.3.0->en_core_web_sm==2.3.1) (1.21.5)\n",
      "Requirement already satisfied: plac<1.2.0,>=0.9.6 in c:\\users\\hp\\anaconda3\\lib\\site-packages (from spacy<2.4.0,>=2.3.0->en_core_web_sm==2.3.1) (1.1.3)\n",
      "Requirement already satisfied: requests<3.0.0,>=2.13.0 in c:\\users\\hp\\anaconda3\\lib\\site-packages (from spacy<2.4.0,>=2.3.0->en_core_web_sm==2.3.1) (2.28.1)\n",
      "Requirement already satisfied: charset-normalizer<3,>=2 in c:\\users\\hp\\anaconda3\\lib\\site-packages (from requests<3.0.0,>=2.13.0->spacy<2.4.0,>=2.3.0->en_core_web_sm==2.3.1) (2.0.4)\n",
      "Requirement already satisfied: idna<4,>=2.5 in c:\\users\\hp\\anaconda3\\lib\\site-packages (from requests<3.0.0,>=2.13.0->spacy<2.4.0,>=2.3.0->en_core_web_sm==2.3.1) (3.3)\n",
      "Requirement already satisfied: urllib3<1.27,>=1.21.1 in c:\\users\\hp\\anaconda3\\lib\\site-packages (from requests<3.0.0,>=2.13.0->spacy<2.4.0,>=2.3.0->en_core_web_sm==2.3.1) (1.26.11)\n",
      "Requirement already satisfied: certifi>=2017.4.17 in c:\\users\\hp\\anaconda3\\lib\\site-packages (from requests<3.0.0,>=2.13.0->spacy<2.4.0,>=2.3.0->en_core_web_sm==2.3.1) (2022.9.14)\n",
      "Requirement already satisfied: colorama in c:\\users\\hp\\anaconda3\\lib\\site-packages (from tqdm<5.0.0,>=4.38.0->spacy<2.4.0,>=2.3.0->en_core_web_sm==2.3.1) (0.4.6)\n",
      "[+] Download and installation successful\n",
      "You can now load the model via spacy.load('en_core_web_sm')\n"
     ]
    }
   ],
   "source": [
    "!python -m spacy download en_core_web_sm"
   ]
  },
  {
   "cell_type": "code",
   "execution_count": 7,
   "metadata": {},
   "outputs": [],
   "source": [
    "import en_core_web_sm\n",
    "nlp = en_core_web_sm.load()"
   ]
  },
  {
   "cell_type": "code",
   "execution_count": 11,
   "metadata": {},
   "outputs": [
    {
     "data": {
      "text/plain": [
       "<spacy.lang.en.English at 0x1385ae42370>"
      ]
     },
     "execution_count": 11,
     "metadata": {},
     "output_type": "execute_result"
    }
   ],
   "source": [
    "spacy.load('en_core_web_sm')"
   ]
  },
  {
   "cell_type": "code",
   "execution_count": 3,
   "metadata": {
    "id": "WbqqXvAzmVUN"
   },
   "outputs": [],
   "source": [
    "import numpy as np\n",
    "import pandas as pd\n",
    "from nltk.corpus import stopwords\n",
    "stopw = set(stopwords.words('english'))\n",
    "df = pd.read_csv('C:/Users/hp/Documents/NLP Projects/Resume-Analyzer-NLP/data/job_final.csv') "
   ]
  },
  {
   "cell_type": "code",
   "execution_count": 4,
   "metadata": {
    "colab": {
     "base_uri": "https://localhost:8080/"
    },
    "id": "n0sTmGQBmrNG",
    "outputId": "328e6ca4-bcf1-4e97-d5dc-22ff424872b6"
   },
   "outputs": [
    {
     "data": {
      "text/plain": [
       "0       About company: Smart Food Safe Solutions Inc. ...\n",
       "1       Location Bangalore Experience Years Job Descri...\n",
       "2       Open Systems International, Inc. (OSI) www.osi...\n",
       "3       About Job Software Testing Engineer Job Descri...\n",
       "4       Location: Bangalore Experience: 6Years Skills ...\n",
       "                              ...                        \n",
       "1919    Skills Qualifications: Years experience Strong...\n",
       "1920    Job TH10519_13189 Posted on: 29th May, 2019Job...\n",
       "1921    Job Description spend percent lives buildings....\n",
       "1922    (Job Number: 1905027) Job Title â€“ Web Develo...\n",
       "1923    marry design engineering language ways produce...\n",
       "Name: test, Length: 1924, dtype: object"
      ]
     },
     "execution_count": 4,
     "metadata": {},
     "output_type": "execute_result"
    }
   ],
   "source": [
    "df['test']=df['Job_Description'].apply(lambda x: ' '.join([word for word in str(x).split() if len(word)>2 and word not in (stopw)]))\n",
    "df['test']"
   ]
  },
  {
   "cell_type": "code",
   "execution_count": 5,
   "metadata": {
    "colab": {
     "base_uri": "https://localhost:8080/",
     "height": 652
    },
    "id": "IyGe11Uwn5a6",
    "outputId": "52f3cc6e-5f6f-4819-aef1-3cfe0bce9c52"
   },
   "outputs": [
    {
     "data": {
      "text/html": [
       "<div>\n",
       "<style scoped>\n",
       "    .dataframe tbody tr th:only-of-type {\n",
       "        vertical-align: middle;\n",
       "    }\n",
       "\n",
       "    .dataframe tbody tr th {\n",
       "        vertical-align: top;\n",
       "    }\n",
       "\n",
       "    .dataframe thead th {\n",
       "        text-align: right;\n",
       "    }\n",
       "</style>\n",
       "<table border=\"1\" class=\"dataframe\">\n",
       "  <thead>\n",
       "    <tr style=\"text-align: right;\">\n",
       "      <th></th>\n",
       "      <th>Unnamed: 0</th>\n",
       "      <th>url</th>\n",
       "      <th>Position</th>\n",
       "      <th>Company</th>\n",
       "      <th>Location</th>\n",
       "      <th>Job_Description</th>\n",
       "      <th>test</th>\n",
       "    </tr>\n",
       "  </thead>\n",
       "  <tbody>\n",
       "    <tr>\n",
       "      <th>0</th>\n",
       "      <td>0</td>\n",
       "      <td>https://www.glassdoor.co.in/partner/jobListing...</td>\n",
       "      <td>Software Testing Internship</td>\n",
       "      <td>Smart Food Safe Solutions Inc</td>\n",
       "      <td>– Bengaluru</td>\n",
       "      <td>About the company:\\nSmart Food Safe Solutions ...</td>\n",
       "      <td>About company: Smart Food Safe Solutions Inc. ...</td>\n",
       "    </tr>\n",
       "    <tr>\n",
       "      <th>1</th>\n",
       "      <td>1</td>\n",
       "      <td>https://www.glassdoor.co.in/partner/jobListing...</td>\n",
       "      <td>Embedded Software Testing</td>\n",
       "      <td>Mobiveil</td>\n",
       "      <td>– Bengaluru</td>\n",
       "      <td>Location : Bangalore\\nExperience : 4+ Years\\n\\...</td>\n",
       "      <td>Location Bangalore Experience Years Job Descri...</td>\n",
       "    </tr>\n",
       "    <tr>\n",
       "      <th>2</th>\n",
       "      <td>2</td>\n",
       "      <td>https://www.glassdoor.co.in/partner/jobListing...</td>\n",
       "      <td>Senior Engineer - Software Testing (Bangalore ...</td>\n",
       "      <td>Open Systems International</td>\n",
       "      <td>– Bengaluru</td>\n",
       "      <td>Open Systems International, Inc. (OSI) www.osi...</td>\n",
       "      <td>Open Systems International, Inc. (OSI) www.osi...</td>\n",
       "    </tr>\n",
       "    <tr>\n",
       "      <th>3</th>\n",
       "      <td>3</td>\n",
       "      <td>https://www.glassdoor.co.in/partner/jobListing...</td>\n",
       "      <td>Software Testing Engineer</td>\n",
       "      <td>Bloom Solutions</td>\n",
       "      <td>– Bengaluru</td>\n",
       "      <td>About the Job\\n\\nSoftware Testing Engineer\\n\\n...</td>\n",
       "      <td>About Job Software Testing Engineer Job Descri...</td>\n",
       "    </tr>\n",
       "    <tr>\n",
       "      <th>4</th>\n",
       "      <td>4</td>\n",
       "      <td>https://www.glassdoor.co.in/partner/jobListing...</td>\n",
       "      <td>CIEL/SEL/1888: Software testing Engineer</td>\n",
       "      <td>CIEL HR Services</td>\n",
       "      <td>– Bengaluru</td>\n",
       "      <td>Location: Bangalore\\nExperience: 3 to 6Years\\n...</td>\n",
       "      <td>Location: Bangalore Experience: 6Years Skills ...</td>\n",
       "    </tr>\n",
       "  </tbody>\n",
       "</table>\n",
       "</div>"
      ],
      "text/plain": [
       "   Unnamed: 0                                                url  \\\n",
       "0           0  https://www.glassdoor.co.in/partner/jobListing...   \n",
       "1           1  https://www.glassdoor.co.in/partner/jobListing...   \n",
       "2           2  https://www.glassdoor.co.in/partner/jobListing...   \n",
       "3           3  https://www.glassdoor.co.in/partner/jobListing...   \n",
       "4           4  https://www.glassdoor.co.in/partner/jobListing...   \n",
       "\n",
       "                                            Position  \\\n",
       "0                        Software Testing Internship   \n",
       "1                          Embedded Software Testing   \n",
       "2  Senior Engineer - Software Testing (Bangalore ...   \n",
       "3                          Software Testing Engineer   \n",
       "4           CIEL/SEL/1888: Software testing Engineer   \n",
       "\n",
       "                         Company      Location  \\\n",
       "0  Smart Food Safe Solutions Inc   – Bengaluru   \n",
       "1                       Mobiveil   – Bengaluru   \n",
       "2     Open Systems International   – Bengaluru   \n",
       "3                Bloom Solutions   – Bengaluru   \n",
       "4               CIEL HR Services   – Bengaluru   \n",
       "\n",
       "                                     Job_Description  \\\n",
       "0  About the company:\\nSmart Food Safe Solutions ...   \n",
       "1  Location : Bangalore\\nExperience : 4+ Years\\n\\...   \n",
       "2  Open Systems International, Inc. (OSI) www.osi...   \n",
       "3  About the Job\\n\\nSoftware Testing Engineer\\n\\n...   \n",
       "4  Location: Bangalore\\nExperience: 3 to 6Years\\n...   \n",
       "\n",
       "                                                test  \n",
       "0  About company: Smart Food Safe Solutions Inc. ...  \n",
       "1  Location Bangalore Experience Years Job Descri...  \n",
       "2  Open Systems International, Inc. (OSI) www.osi...  \n",
       "3  About Job Software Testing Engineer Job Descri...  \n",
       "4  Location: Bangalore Experience: 6Years Skills ...  "
      ]
     },
     "execution_count": 5,
     "metadata": {},
     "output_type": "execute_result"
    }
   ],
   "source": [
    "df.head()"
   ]
  },
  {
   "cell_type": "code",
   "execution_count": 6,
   "metadata": {
    "colab": {
     "base_uri": "https://localhost:8080/"
    },
    "id": "QUmnqfZhmOXK",
    "outputId": "e67ebc20-e166-4e3b-feb3-a7137574ab67"
   },
   "outputs": [
    {
     "name": "stdin",
     "output_type": "stream",
     "text": [
      "specify the path of the resume (format(.txt, .docx and .pdf))== C:/Users/hp/Documents/NLP Projects/Resume-Analyzer-NLP/data/test/android-developer-1559034496.pdf\n"
     ]
    },
    {
     "name": "stderr",
     "output_type": "stream",
     "text": [
      "C:\\Users\\hp\\anaconda3\\lib\\site-packages\\spacy\\util.py:275: UserWarning: [W031] Model 'en_training' (0.0.0) requires spaCy v2.1 and is incompatible with the current spaCy version (2.3.5). This may lead to unexpected results or runtime errors. To resolve this, download a newer compatible model or retrain your custom model with the current spaCy version. For more details and available updates, run: python -m spacy validate\n",
      "  warnings.warn(warn_msg)\n"
     ]
    }
   ],
   "source": [
    "##file format should be in .txt , .docx or .pdf only\n",
    "filed = input('specify the path of the resume (format(.txt, .docx and .pdf))==')\n",
    "\n",
    "try:\n",
    "    doc = Document()\n",
    "    with open(filed, 'r', encoding=\"utf-8\") as file:\n",
    "        doc.add_paragraph(file.read())\n",
    "    doc.save(\"text.docx\")\n",
    "    data = ResumeParser('text.docx').get_extracted_data()\n",
    "    #print(data['skills'])\n",
    "    \n",
    "except:\n",
    "    data = ResumeParser(filed).get_extracted_data()\n",
    "\n",
    "    \n",
    "resume1 = data['skills']"
   ]
  },
  {
   "cell_type": "code",
   "execution_count": 7,
   "metadata": {
    "colab": {
     "base_uri": "https://localhost:8080/"
    },
    "id": "AuO-qMyXlwnS",
    "outputId": "f0ec7d4f-a8cd-40bc-fc7d-6dc916549789"
   },
   "outputs": [
    {
     "name": "stdout",
     "output_type": "stream",
     "text": [
      "['Testing', 'Javascript', 'Xml', 'Construction', 'Android', 'Java', 'Json', 'Cloud', 'Design', 'Matlab', 'Ui', 'Publishing', 'Email', 'C', 'Website', 'Python', 'Analysis', 'Mobile', 'Debugging', 'Specifications']\n"
     ]
    }
   ],
   "source": [
    "print(resume1)"
   ]
  },
  {
   "cell_type": "code",
   "execution_count": 17,
   "metadata": {
    "id": "pcHOhC2tlwqc"
   },
   "outputs": [],
   "source": [
    "skills = []\n",
    "skills.append(' '.join(word for word in resume1))"
   ]
  },
  {
   "cell_type": "code",
   "execution_count": 18,
   "metadata": {
    "colab": {
     "base_uri": "https://localhost:8080/"
    },
    "id": "M3jXSHMTwl0u",
    "outputId": "8318a289-8aaf-48e2-9a04-5e52263a7070"
   },
   "outputs": [
    {
     "data": {
      "text/plain": [
       "['Analysis Analytics Automation R Data analysis Sphinx Physics Algorithms Process Reporting Machine learning Aws Matlab Design Documentation Python Spark Conversion Email Cloud Mining Website Scala Litigation Analytical Etl Research Programming']"
      ]
     },
     "execution_count": 18,
     "metadata": {},
     "output_type": "execute_result"
    }
   ],
   "source": [
    "skills"
   ]
  },
  {
   "cell_type": "code",
   "execution_count": 8,
   "metadata": {
    "colab": {
     "base_uri": "https://localhost:8080/"
    },
    "id": "puNH6SLmQcK4",
    "outputId": "632484ce-c8bb-4fd2-f6a9-1a5efaf070a6"
   },
   "outputs": [
    {
     "data": {
      "text/plain": [
       "{'name': 'Android Developer',\n",
       " 'email': 'info@qwikresume.com',\n",
       " 'mobile_number': None,\n",
       " 'skills': ['Testing',\n",
       "  'Javascript',\n",
       "  'Xml',\n",
       "  'Construction',\n",
       "  'Android',\n",
       "  'Java',\n",
       "  'Json',\n",
       "  'Cloud',\n",
       "  'Design',\n",
       "  'Matlab',\n",
       "  'Ui',\n",
       "  'Publishing',\n",
       "  'Email',\n",
       "  'C',\n",
       "  'Website',\n",
       "  'Python',\n",
       "  'Analysis',\n",
       "  'Mobile',\n",
       "  'Debugging',\n",
       "  'Specifications'],\n",
       " 'college_name': None,\n",
       " 'degree': None,\n",
       " 'designation': None,\n",
       " 'experience': ['Android Developer',\n",
       "  'ABC Corporation\\xa0\\xad\\xa0January 2011 – March 2012',\n",
       "  '\\uf09f Environment Eclipse IDE, Android Studio, GenyMotion, Java, Android SDK, Android',\n",
       "  '\\uf09f',\n",
       "  'Development Tools (ADT), JSON, XML,',\n",
       "  'Involved in the full life cycle of the project including analysis design, development, debugging,',\n",
       "  'testing, and deployment.',\n",
       "  '\\uf09f Developed the application from specifications and requirement gathering.',\n",
       "  '\\uf09f',\n",
       "  'Independently handled modules, scope, analysis, design, build, test the code, debug and',\n",
       "  'implement application.',\n",
       "  '\\uf09f Developed products section of the application which provided Multiple Activities, Custom',\n",
       "  'Adapters, Base Adapter, List views, Links, Web View, Text Views and so on.',\n",
       "  '\\uf09f Developed Navigation Drawer for the application, which provides better navigation of apps',\n",
       "  'features.',\n",
       "  '\\uf09f Created new UI Screens and key resource for layout UI work utilizing xml, Shape Drawable,',\n",
       "  'Text View, List View, Web View, Buttons, Activities, and Frame Layout.',\n",
       "  'Android Developer',\n",
       "  'ABC Corporation\\xa0\\xad\\xa02006 – 2011',\n",
       "  '\\uf09f Helped Develop Insight, which is a tablet application that retrieves data from a CPE and',\n",
       "  'displays it',\n",
       "  '\\uf09f This is done to debug the DSL activity in someones home',\n",
       "  '\\uf09f Pulled info from a cloud server and coded it onto a tablet',\n",
       "  '\\uf09f Worked on UI and backend construction',\n",
       "  '\\uf09f Connected to various computer boards where I retrieved Wi-Fi information from a server -',\n",
       "  'Debugged code that was previously worked on by an outsourced company',\n",
       "  '\\uf09f There were many bugs and crashes in the app, and I cleaned them all, despite the size of the',\n",
       "  'code',\n",
       "  '\\uf09f Retrieved wiring and noise data from the CPE by connecting the tablet to the same network.',\n",
       "  '© This Free Resume Template is the copyright of Qwikresume.com. Usage',\n",
       "  'Guidelines'],\n",
       " 'company_names': ['ROBERT SMITH'],\n",
       " 'no_of_pages': 2,\n",
       " 'total_experience': 1.17}"
      ]
     },
     "execution_count": 8,
     "metadata": {},
     "output_type": "execute_result"
    }
   ],
   "source": [
    "data"
   ]
  },
  {
   "cell_type": "code",
   "execution_count": 20,
   "metadata": {
    "colab": {
     "base_uri": "https://localhost:8080/"
    },
    "id": "vn2miYgpxKMx",
    "outputId": "e0a6597c-5677-4235-c81d-9bd9e2384083"
   },
   "outputs": [
    {
     "name": "stdout",
     "output_type": "stream",
     "text": [
      "Collecting ftfy\n",
      "  Downloading ftfy-6.1.1-py3-none-any.whl (53 kB)\n",
      "     -------------------------------------- 53.1/53.1 kB 680.3 kB/s eta 0:00:00\n",
      "Requirement already satisfied: wcwidth>=0.2.5 in c:\\users\\hp\\anaconda3\\lib\\site-packages (from ftfy) (0.2.5)\n",
      "Installing collected packages: ftfy\n",
      "Successfully installed ftfy-6.1.1\n"
     ]
    }
   ],
   "source": [
    "!pip install ftfy"
   ]
  },
  {
   "cell_type": "code",
   "execution_count": 21,
   "metadata": {
    "id": "6m36x4oHw2lt"
   },
   "outputs": [],
   "source": [
    "import re\n",
    "\n",
    "from ftfy import fix_text\n",
    "\n",
    "def ngrams(string, n=3):\n",
    "    string = fix_text(string) # fix text\n",
    "    string = string.encode(\"ascii\", errors=\"ignore\").decode() #remove non ascii chars\n",
    "    string = string.lower()\n",
    "    chars_to_remove = [\")\",\"(\",\".\",\"|\",\"[\",\"]\",\"{\",\"}\",\"'\"]\n",
    "    rx = '[' + re.escape(''.join(chars_to_remove)) + ']'\n",
    "    string = re.sub(rx, '', string)\n",
    "    string = string.replace('&', 'and')\n",
    "    string = string.replace(',', ' ')\n",
    "    string = string.replace('-', ' ')\n",
    "    string = string.title() # normalise case - capital at start of each word\n",
    "    string = re.sub(' +',' ',string).strip() # get rid of multiple spaces and replace with a single\n",
    "    string = ' '+ string +' ' # pad names for ngrams...\n",
    "    string = re.sub(r'[,-./]|\\sBD',r'', string)\n",
    "    ngrams = zip(*[string[i:] for i in range(n)])\n",
    "    return [''.join(ngram) for ngram in ngrams]"
   ]
  },
  {
   "cell_type": "code",
   "execution_count": 22,
   "metadata": {
    "id": "3DBXYreMxCb8"
   },
   "outputs": [],
   "source": [
    "from sklearn.feature_extraction.text import TfidfVectorizer\n",
    "import re"
   ]
  },
  {
   "cell_type": "code",
   "execution_count": 23,
   "metadata": {
    "id": "3_2ggnuoxcuG"
   },
   "outputs": [],
   "source": [
    "vectorizer = TfidfVectorizer(min_df=1, analyzer=ngrams, lowercase=False)\n",
    "tfidf = vectorizer.fit_transform(skills)"
   ]
  },
  {
   "cell_type": "code",
   "execution_count": 24,
   "metadata": {
    "id": "fS1MKOl9xTBC"
   },
   "outputs": [],
   "source": [
    "from sklearn.neighbors import NearestNeighbors\n",
    "nbrs = NearestNeighbors(n_neighbors=1, n_jobs=-1).fit(tfidf)\n",
    "test = (df['test'].values.astype('U'))"
   ]
  },
  {
   "cell_type": "code",
   "execution_count": 25,
   "metadata": {
    "id": "qb5h-dMixTEY"
   },
   "outputs": [],
   "source": [
    "#classification function \n",
    "def getNearestN(query):\n",
    "  queryTFIDF_ = vectorizer.transform(query)\n",
    "  distances, indices = nbrs.kneighbors(queryTFIDF_)\n",
    "  return distances, indices"
   ]
  },
  {
   "cell_type": "code",
   "execution_count": 26,
   "metadata": {
    "id": "6gkYEwsVxng9"
   },
   "outputs": [],
   "source": [
    "distances, indices = getNearestN(test)\n",
    "test = list(test) \n",
    "matches = []"
   ]
  },
  {
   "cell_type": "code",
   "execution_count": 27,
   "metadata": {
    "id": "kT8vHGNfxsq5"
   },
   "outputs": [],
   "source": [
    "for i,j in enumerate(indices):\n",
    "    dist=round(distances[i][0],2)\n",
    "  \n",
    "    temp = [dist]\n",
    "    matches.append(temp)\n",
    "    \n",
    "matches = pd.DataFrame(matches, columns=['Match confidence'])"
   ]
  },
  {
   "cell_type": "code",
   "execution_count": 28,
   "metadata": {
    "colab": {
     "base_uri": "https://localhost:8080/",
     "height": 476
    },
    "id": "-fHhEdr0xtDk",
    "outputId": "93bde3c5-2dfd-42bf-cfbf-0b5695fe1163"
   },
   "outputs": [
    {
     "data": {
      "text/html": [
       "<div>\n",
       "<style scoped>\n",
       "    .dataframe tbody tr th:only-of-type {\n",
       "        vertical-align: middle;\n",
       "    }\n",
       "\n",
       "    .dataframe tbody tr th {\n",
       "        vertical-align: top;\n",
       "    }\n",
       "\n",
       "    .dataframe thead th {\n",
       "        text-align: right;\n",
       "    }\n",
       "</style>\n",
       "<table border=\"1\" class=\"dataframe\">\n",
       "  <thead>\n",
       "    <tr style=\"text-align: right;\">\n",
       "      <th></th>\n",
       "      <th>index</th>\n",
       "      <th>Position</th>\n",
       "      <th>Company</th>\n",
       "      <th>Location</th>\n",
       "    </tr>\n",
       "  </thead>\n",
       "  <tbody>\n",
       "    <tr>\n",
       "      <th>0</th>\n",
       "      <td>1262</td>\n",
       "      <td>KGS MC | Data &amp; Analytics | Data Scientist</td>\n",
       "      <td>KPMG</td>\n",
       "      <td>Bengaluru</td>\n",
       "    </tr>\n",
       "    <tr>\n",
       "      <th>1</th>\n",
       "      <td>1332</td>\n",
       "      <td>Senior Data Science Specialist</td>\n",
       "      <td>CDM Smith</td>\n",
       "      <td>Bengaluru</td>\n",
       "    </tr>\n",
       "    <tr>\n",
       "      <th>2</th>\n",
       "      <td>655</td>\n",
       "      <td>Data Scientist (3-8 Years) for a Leading Softw...</td>\n",
       "      <td>Zyoin</td>\n",
       "      <td>â€“ Bengaluru</td>\n",
       "    </tr>\n",
       "    <tr>\n",
       "      <th>3</th>\n",
       "      <td>1292</td>\n",
       "      <td>Manager, Data Science</td>\n",
       "      <td>Amazon</td>\n",
       "      <td>Bengaluru</td>\n",
       "    </tr>\n",
       "    <tr>\n",
       "      <th>4</th>\n",
       "      <td>1210</td>\n",
       "      <td>Data Scientist</td>\n",
       "      <td>Anlage HRO Services</td>\n",
       "      <td>Bengaluru</td>\n",
       "    </tr>\n",
       "    <tr>\n",
       "      <th>5</th>\n",
       "      <td>976</td>\n",
       "      <td>Lead Data Scientist</td>\n",
       "      <td>Target Corporation</td>\n",
       "      <td>Bengaluru</td>\n",
       "    </tr>\n",
       "    <tr>\n",
       "      <th>6</th>\n",
       "      <td>1028</td>\n",
       "      <td>Data Analyst</td>\n",
       "      <td>Goalreify</td>\n",
       "      <td>Bengaluru</td>\n",
       "    </tr>\n",
       "    <tr>\n",
       "      <th>7</th>\n",
       "      <td>957</td>\n",
       "      <td>Data Scientist</td>\n",
       "      <td>ExxonMobil</td>\n",
       "      <td>Bengaluru</td>\n",
       "    </tr>\n",
       "    <tr>\n",
       "      <th>8</th>\n",
       "      <td>450</td>\n",
       "      <td>Lead Data Scientist</td>\n",
       "      <td>Capgemini</td>\n",
       "      <td>– Bengaluru</td>\n",
       "    </tr>\n",
       "    <tr>\n",
       "      <th>9</th>\n",
       "      <td>453</td>\n",
       "      <td>Sr.Manager Data Scientist</td>\n",
       "      <td>Capgemini</td>\n",
       "      <td>– Bengaluru</td>\n",
       "    </tr>\n",
       "  </tbody>\n",
       "</table>\n",
       "</div>"
      ],
      "text/plain": [
       "   index                                           Position  \\\n",
       "0   1262         KGS MC | Data & Analytics | Data Scientist   \n",
       "1   1332                     Senior Data Science Specialist   \n",
       "2    655  Data Scientist (3-8 Years) for a Leading Softw...   \n",
       "3   1292                              Manager, Data Science   \n",
       "4   1210                                     Data Scientist   \n",
       "5    976                                Lead Data Scientist   \n",
       "6   1028                                       Data Analyst   \n",
       "7    957                                     Data Scientist   \n",
       "8    450                                Lead Data Scientist   \n",
       "9    453                          Sr.Manager Data Scientist   \n",
       "\n",
       "               Company        Location  \n",
       "0                 KPMG       Bengaluru  \n",
       "1            CDM Smith       Bengaluru  \n",
       "2                Zyoin   â€“ Bengaluru  \n",
       "3               Amazon       Bengaluru  \n",
       "4  Anlage HRO Services       Bengaluru  \n",
       "5   Target Corporation       Bengaluru  \n",
       "6            Goalreify       Bengaluru  \n",
       "7           ExxonMobil       Bengaluru  \n",
       "8            Capgemini     – Bengaluru  \n",
       "9            Capgemini     – Bengaluru  "
      ]
     },
     "execution_count": 28,
     "metadata": {},
     "output_type": "execute_result"
    }
   ],
   "source": [
    "df['match']=matches['Match confidence']\n",
    "df1=df.sort_values('match')\n",
    "df1[['Position', 'Company','Location']].head(10).reset_index()"
   ]
  },
  {
   "cell_type": "code",
   "execution_count": null,
   "metadata": {},
   "outputs": [],
   "source": []
  }
 ],
 "metadata": {
  "colab": {
   "provenance": []
  },
  "kernelspec": {
   "display_name": "Python 3 (ipykernel)",
   "language": "python",
   "name": "python3"
  },
  "language_info": {
   "codemirror_mode": {
    "name": "ipython",
    "version": 3
   },
   "file_extension": ".py",
   "mimetype": "text/x-python",
   "name": "python",
   "nbconvert_exporter": "python",
   "pygments_lexer": "ipython3",
   "version": "3.9.13"
  }
 },
 "nbformat": 4,
 "nbformat_minor": 4
}
