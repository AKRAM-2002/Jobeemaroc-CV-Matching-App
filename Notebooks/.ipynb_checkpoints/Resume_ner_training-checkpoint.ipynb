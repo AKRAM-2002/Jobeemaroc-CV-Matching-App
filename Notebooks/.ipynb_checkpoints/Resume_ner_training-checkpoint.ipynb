{
 "cells": [
  {
   "cell_type": "markdown",
   "id": "f28cfaaf-f0d9-4ff1-a11b-9cfea4214d0d",
   "metadata": {},
   "source": []
  }
 ],
 "metadata": {
  "kernelspec": {
   "display_name": "Python 3 (ipykernel)",
   "language": "python",
   "name": "python3"
  },
  "language_info": {
   "codemirror_mode": {
    "name": "ipython",
    "version": 3
   },
   "file_extension": ".py",
   "mimetype": "text/x-python",
   "name": "python",
   "nbconvert_exporter": "python",
   "pygments_lexer": "ipython3",
   "version": "3.9.13"
  }
 },
 "nbformat": 4,
 "nbformat_minor": 5
}
